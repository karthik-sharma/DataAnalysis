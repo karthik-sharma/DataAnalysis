{
 "cells": [
  {
   "cell_type": "markdown",
   "id": "f0faf43d",
   "metadata": {
    "papermill": {
     "duration": 0.009885,
     "end_time": "2023-05-02T19:53:33.653732",
     "exception": false,
     "start_time": "2023-05-02T19:53:33.643847",
     "status": "completed"
    },
    "tags": []
   },
   "source": [
    "**Exploratory Data Analysis (EDA) is an important step in the data analysis process. It involves examining and visualizing the data to gain insights and identify patterns or anomalies. In Python, there are several libraries available for performing EDA, such as Pandas, NumPy, Matplotlib, and Seaborn. Here are some common steps to perform EDA in Python:**"
   ]
  },
  {
   "cell_type": "markdown",
   "id": "f8ec72ac",
   "metadata": {
    "papermill": {
     "duration": 0.00816,
     "end_time": "2023-05-02T19:53:33.670843",
     "exception": false,
     "start_time": "2023-05-02T19:53:33.662683",
     "status": "completed"
    },
    "tags": []
   },
   "source": [
    "**1. Importing the necessary libraries and loading the dataset**"
   ]
  },
  {
   "cell_type": "code",
   "execution_count": 1,
   "id": "1e9375a9",
   "metadata": {
    "execution": {
     "iopub.execute_input": "2023-05-02T19:53:33.689904Z",
     "iopub.status.busy": "2023-05-02T19:53:33.689214Z",
     "iopub.status.idle": "2023-05-02T19:53:34.740217Z",
     "shell.execute_reply": "2023-05-02T19:53:34.739018Z"
    },
    "papermill": {
     "duration": 1.064407,
     "end_time": "2023-05-02T19:53:34.743645",
     "exception": false,
     "start_time": "2023-05-02T19:53:33.679238",
     "status": "completed"
    },
    "tags": []
   },
   "outputs": [],
   "source": [
    "import pandas as pd\n",
    "import numpy as np\n",
    "import matplotlib.pyplot as plt\n",
    "import seaborn as sns"
   ]
  },
  {
   "cell_type": "code",
   "execution_count": 2,
   "id": "d92a4cbd",
   "metadata": {
    "execution": {
     "iopub.execute_input": "2023-05-02T19:53:34.762904Z",
     "iopub.status.busy": "2023-05-02T19:53:34.762479Z",
     "iopub.status.idle": "2023-05-02T19:53:34.784471Z",
     "shell.execute_reply": "2023-05-02T19:53:34.783417Z"
    },
    "papermill": {
     "duration": 0.034355,
     "end_time": "2023-05-02T19:53:34.787038",
     "exception": false,
     "start_time": "2023-05-02T19:53:34.752683",
     "status": "completed"
    },
    "tags": []
   },
   "outputs": [],
   "source": [
    "df=pd.read_csv('/kaggle/input/choclate-sales-project/choclate protfolio project - 11.csv')"
   ]
  },
  {
   "cell_type": "markdown",
   "id": "8f8bac5c",
   "metadata": {
    "papermill": {
     "duration": 0.008326,
     "end_time": "2023-05-02T19:53:34.804328",
     "exception": false,
     "start_time": "2023-05-02T19:53:34.796002",
     "status": "completed"
    },
    "tags": []
   },
   "source": [
    "**2. Understanding the dataset:**"
   ]
  },
  {
   "cell_type": "code",
   "execution_count": 3,
   "id": "3f4eb10c",
   "metadata": {
    "execution": {
     "iopub.execute_input": "2023-05-02T19:53:34.824898Z",
     "iopub.status.busy": "2023-05-02T19:53:34.824113Z",
     "iopub.status.idle": "2023-05-02T19:53:34.851713Z",
     "shell.execute_reply": "2023-05-02T19:53:34.850810Z"
    },
    "papermill": {
     "duration": 0.039461,
     "end_time": "2023-05-02T19:53:34.853896",
     "exception": false,
     "start_time": "2023-05-02T19:53:34.814435",
     "status": "completed"
    },
    "tags": []
   },
   "outputs": [
    {
     "name": "stdout",
     "output_type": "stream",
     "text": [
      "<class 'pandas.core.frame.DataFrame'>\n",
      "RangeIndex: 300 entries, 0 to 299\n",
      "Data columns (total 9 columns):\n",
      " #   Column         Non-Null Count  Dtype \n",
      "---  ------         --------------  ----- \n",
      " 0   Sales Person   300 non-null    object\n",
      " 1   Geography      300 non-null    object\n",
      " 2   Product        300 non-null    object\n",
      " 3   Amount         300 non-null    object\n",
      " 4   Units          300 non-null    int64 \n",
      " 5   cost per unit  300 non-null    int64 \n",
      " 6   Cost           300 non-null    object\n",
      " 7   Profit         300 non-null    object\n",
      " 8   profit %       300 non-null    object\n",
      "dtypes: int64(2), object(7)\n",
      "memory usage: 21.2+ KB\n"
     ]
    }
   ],
   "source": [
    "# Checking basic information:\n",
    "df.info()"
   ]
  },
  {
   "cell_type": "code",
   "execution_count": 4,
   "id": "40161de6",
   "metadata": {
    "execution": {
     "iopub.execute_input": "2023-05-02T19:53:34.874630Z",
     "iopub.status.busy": "2023-05-02T19:53:34.873865Z",
     "iopub.status.idle": "2023-05-02T19:53:34.893264Z",
     "shell.execute_reply": "2023-05-02T19:53:34.892159Z"
    },
    "papermill": {
     "duration": 0.032358,
     "end_time": "2023-05-02T19:53:34.895607",
     "exception": false,
     "start_time": "2023-05-02T19:53:34.863249",
     "status": "completed"
    },
    "tags": []
   },
   "outputs": [
    {
     "data": {
      "text/html": [
       "<div>\n",
       "<style scoped>\n",
       "    .dataframe tbody tr th:only-of-type {\n",
       "        vertical-align: middle;\n",
       "    }\n",
       "\n",
       "    .dataframe tbody tr th {\n",
       "        vertical-align: top;\n",
       "    }\n",
       "\n",
       "    .dataframe thead th {\n",
       "        text-align: right;\n",
       "    }\n",
       "</style>\n",
       "<table border=\"1\" class=\"dataframe\">\n",
       "  <thead>\n",
       "    <tr style=\"text-align: right;\">\n",
       "      <th></th>\n",
       "      <th>Sales Person</th>\n",
       "      <th>Geography</th>\n",
       "      <th>Product</th>\n",
       "      <th>Amount</th>\n",
       "      <th>Units</th>\n",
       "      <th>cost per unit</th>\n",
       "      <th>Cost</th>\n",
       "      <th>Profit</th>\n",
       "      <th>profit %</th>\n",
       "    </tr>\n",
       "  </thead>\n",
       "  <tbody>\n",
       "    <tr>\n",
       "      <th>0</th>\n",
       "      <td>Ram Mahesh</td>\n",
       "      <td>New Zealand</td>\n",
       "      <td>70% Dark Bites</td>\n",
       "      <td>$1,624</td>\n",
       "      <td>114</td>\n",
       "      <td>14</td>\n",
       "      <td>1,652</td>\n",
       "      <td>($28)</td>\n",
       "      <td>-2%</td>\n",
       "    </tr>\n",
       "    <tr>\n",
       "      <th>1</th>\n",
       "      <td>Brien Boise</td>\n",
       "      <td>USA</td>\n",
       "      <td>Choco Coated Almonds</td>\n",
       "      <td>$6,706</td>\n",
       "      <td>459</td>\n",
       "      <td>9</td>\n",
       "      <td>3,970</td>\n",
       "      <td>$2,736</td>\n",
       "      <td>41%</td>\n",
       "    </tr>\n",
       "    <tr>\n",
       "      <th>2</th>\n",
       "      <td>Husein Augar</td>\n",
       "      <td>USA</td>\n",
       "      <td>Almond Choco</td>\n",
       "      <td>$959</td>\n",
       "      <td>147</td>\n",
       "      <td>12</td>\n",
       "      <td>1,746</td>\n",
       "      <td>($787)</td>\n",
       "      <td>-82%</td>\n",
       "    </tr>\n",
       "    <tr>\n",
       "      <th>3</th>\n",
       "      <td>Carla Molina</td>\n",
       "      <td>Canada</td>\n",
       "      <td>Drinking Coco</td>\n",
       "      <td>$9,632</td>\n",
       "      <td>288</td>\n",
       "      <td>6</td>\n",
       "      <td>1,863</td>\n",
       "      <td>$7,769</td>\n",
       "      <td>81%</td>\n",
       "    </tr>\n",
       "    <tr>\n",
       "      <th>4</th>\n",
       "      <td>Curtice Advani</td>\n",
       "      <td>UK</td>\n",
       "      <td>White Choc</td>\n",
       "      <td>$2,100</td>\n",
       "      <td>414</td>\n",
       "      <td>13</td>\n",
       "      <td>5,444</td>\n",
       "      <td>($3,344)</td>\n",
       "      <td>-159%</td>\n",
       "    </tr>\n",
       "  </tbody>\n",
       "</table>\n",
       "</div>"
      ],
      "text/plain": [
       "     Sales Person    Geography               Product   Amount  Units  \\\n",
       "0      Ram Mahesh  New Zealand        70% Dark Bites  $1,624     114   \n",
       "1     Brien Boise          USA  Choco Coated Almonds  $6,706     459   \n",
       "2    Husein Augar          USA          Almond Choco    $959     147   \n",
       "3    Carla Molina       Canada         Drinking Coco  $9,632     288   \n",
       "4  Curtice Advani           UK            White Choc  $2,100     414   \n",
       "\n",
       "   cost per unit   Cost    Profit profit %  \n",
       "0             14  1,652     ($28)      -2%  \n",
       "1              9  3,970   $2,736       41%  \n",
       "2             12  1,746    ($787)     -82%  \n",
       "3              6  1,863   $7,769       81%  \n",
       "4             13  5,444  ($3,344)    -159%  "
      ]
     },
     "execution_count": 4,
     "metadata": {},
     "output_type": "execute_result"
    }
   ],
   "source": [
    "# Checking the first few rows:\n",
    "df.head()"
   ]
  },
  {
   "cell_type": "code",
   "execution_count": 5,
   "id": "80a5fb60",
   "metadata": {
    "execution": {
     "iopub.execute_input": "2023-05-02T19:53:34.915818Z",
     "iopub.status.busy": "2023-05-02T19:53:34.915048Z",
     "iopub.status.idle": "2023-05-02T19:53:34.921052Z",
     "shell.execute_reply": "2023-05-02T19:53:34.919845Z"
    },
    "papermill": {
     "duration": 0.018637,
     "end_time": "2023-05-02T19:53:34.923315",
     "exception": false,
     "start_time": "2023-05-02T19:53:34.904678",
     "status": "completed"
    },
    "tags": []
   },
   "outputs": [],
   "source": [
    "# removing this columns as the data in that columns is false will create them later\n",
    "df = df.drop(['Profit', 'profit %', 'Cost'], axis=1)"
   ]
  },
  {
   "cell_type": "code",
   "execution_count": 6,
   "id": "7114e06e",
   "metadata": {
    "execution": {
     "iopub.execute_input": "2023-05-02T19:53:34.943254Z",
     "iopub.status.busy": "2023-05-02T19:53:34.942798Z",
     "iopub.status.idle": "2023-05-02T19:53:34.956963Z",
     "shell.execute_reply": "2023-05-02T19:53:34.955710Z"
    },
    "papermill": {
     "duration": 0.026734,
     "end_time": "2023-05-02T19:53:34.959155",
     "exception": false,
     "start_time": "2023-05-02T19:53:34.932421",
     "status": "completed"
    },
    "tags": []
   },
   "outputs": [
    {
     "data": {
      "text/html": [
       "<div>\n",
       "<style scoped>\n",
       "    .dataframe tbody tr th:only-of-type {\n",
       "        vertical-align: middle;\n",
       "    }\n",
       "\n",
       "    .dataframe tbody tr th {\n",
       "        vertical-align: top;\n",
       "    }\n",
       "\n",
       "    .dataframe thead th {\n",
       "        text-align: right;\n",
       "    }\n",
       "</style>\n",
       "<table border=\"1\" class=\"dataframe\">\n",
       "  <thead>\n",
       "    <tr style=\"text-align: right;\">\n",
       "      <th></th>\n",
       "      <th>Sales Person</th>\n",
       "      <th>Geography</th>\n",
       "      <th>Product</th>\n",
       "      <th>Amount</th>\n",
       "      <th>Units</th>\n",
       "      <th>cost per unit</th>\n",
       "    </tr>\n",
       "  </thead>\n",
       "  <tbody>\n",
       "    <tr>\n",
       "      <th>0</th>\n",
       "      <td>Ram Mahesh</td>\n",
       "      <td>New Zealand</td>\n",
       "      <td>70% Dark Bites</td>\n",
       "      <td>$1,624</td>\n",
       "      <td>114</td>\n",
       "      <td>14</td>\n",
       "    </tr>\n",
       "    <tr>\n",
       "      <th>1</th>\n",
       "      <td>Brien Boise</td>\n",
       "      <td>USA</td>\n",
       "      <td>Choco Coated Almonds</td>\n",
       "      <td>$6,706</td>\n",
       "      <td>459</td>\n",
       "      <td>9</td>\n",
       "    </tr>\n",
       "    <tr>\n",
       "      <th>2</th>\n",
       "      <td>Husein Augar</td>\n",
       "      <td>USA</td>\n",
       "      <td>Almond Choco</td>\n",
       "      <td>$959</td>\n",
       "      <td>147</td>\n",
       "      <td>12</td>\n",
       "    </tr>\n",
       "    <tr>\n",
       "      <th>3</th>\n",
       "      <td>Carla Molina</td>\n",
       "      <td>Canada</td>\n",
       "      <td>Drinking Coco</td>\n",
       "      <td>$9,632</td>\n",
       "      <td>288</td>\n",
       "      <td>6</td>\n",
       "    </tr>\n",
       "    <tr>\n",
       "      <th>4</th>\n",
       "      <td>Curtice Advani</td>\n",
       "      <td>UK</td>\n",
       "      <td>White Choc</td>\n",
       "      <td>$2,100</td>\n",
       "      <td>414</td>\n",
       "      <td>13</td>\n",
       "    </tr>\n",
       "  </tbody>\n",
       "</table>\n",
       "</div>"
      ],
      "text/plain": [
       "     Sales Person    Geography               Product   Amount  Units  \\\n",
       "0      Ram Mahesh  New Zealand        70% Dark Bites  $1,624     114   \n",
       "1     Brien Boise          USA  Choco Coated Almonds  $6,706     459   \n",
       "2    Husein Augar          USA          Almond Choco    $959     147   \n",
       "3    Carla Molina       Canada         Drinking Coco  $9,632     288   \n",
       "4  Curtice Advani           UK            White Choc  $2,100     414   \n",
       "\n",
       "   cost per unit  \n",
       "0             14  \n",
       "1              9  \n",
       "2             12  \n",
       "3              6  \n",
       "4             13  "
      ]
     },
     "execution_count": 6,
     "metadata": {},
     "output_type": "execute_result"
    }
   ],
   "source": [
    "df.head()"
   ]
  },
  {
   "cell_type": "code",
   "execution_count": 7,
   "id": "c995eb54",
   "metadata": {
    "execution": {
     "iopub.execute_input": "2023-05-02T19:53:34.979795Z",
     "iopub.status.busy": "2023-05-02T19:53:34.979107Z",
     "iopub.status.idle": "2023-05-02T19:53:34.992840Z",
     "shell.execute_reply": "2023-05-02T19:53:34.991701Z"
    },
    "papermill": {
     "duration": 0.026846,
     "end_time": "2023-05-02T19:53:34.995363",
     "exception": false,
     "start_time": "2023-05-02T19:53:34.968517",
     "status": "completed"
    },
    "tags": []
   },
   "outputs": [
    {
     "data": {
      "text/html": [
       "<div>\n",
       "<style scoped>\n",
       "    .dataframe tbody tr th:only-of-type {\n",
       "        vertical-align: middle;\n",
       "    }\n",
       "\n",
       "    .dataframe tbody tr th {\n",
       "        vertical-align: top;\n",
       "    }\n",
       "\n",
       "    .dataframe thead th {\n",
       "        text-align: right;\n",
       "    }\n",
       "</style>\n",
       "<table border=\"1\" class=\"dataframe\">\n",
       "  <thead>\n",
       "    <tr style=\"text-align: right;\">\n",
       "      <th></th>\n",
       "      <th>Sales Person</th>\n",
       "      <th>Geography</th>\n",
       "      <th>Product</th>\n",
       "      <th>Amount</th>\n",
       "      <th>Units</th>\n",
       "      <th>cost per unit</th>\n",
       "    </tr>\n",
       "  </thead>\n",
       "  <tbody>\n",
       "    <tr>\n",
       "      <th>0</th>\n",
       "      <td>Ram Mahesh</td>\n",
       "      <td>New Zealand</td>\n",
       "      <td>70% Dark Bites</td>\n",
       "      <td>$1,624</td>\n",
       "      <td>114</td>\n",
       "      <td>14</td>\n",
       "    </tr>\n",
       "    <tr>\n",
       "      <th>1</th>\n",
       "      <td>Brien Boise</td>\n",
       "      <td>USA</td>\n",
       "      <td>Choco Coated Almonds</td>\n",
       "      <td>$6,706</td>\n",
       "      <td>459</td>\n",
       "      <td>9</td>\n",
       "    </tr>\n",
       "    <tr>\n",
       "      <th>2</th>\n",
       "      <td>Husein Augar</td>\n",
       "      <td>USA</td>\n",
       "      <td>Almond Choco</td>\n",
       "      <td>$959</td>\n",
       "      <td>147</td>\n",
       "      <td>12</td>\n",
       "    </tr>\n",
       "    <tr>\n",
       "      <th>3</th>\n",
       "      <td>Carla Molina</td>\n",
       "      <td>Canada</td>\n",
       "      <td>Drinking Coco</td>\n",
       "      <td>$9,632</td>\n",
       "      <td>288</td>\n",
       "      <td>6</td>\n",
       "    </tr>\n",
       "    <tr>\n",
       "      <th>4</th>\n",
       "      <td>Curtice Advani</td>\n",
       "      <td>UK</td>\n",
       "      <td>White Choc</td>\n",
       "      <td>$2,100</td>\n",
       "      <td>414</td>\n",
       "      <td>13</td>\n",
       "    </tr>\n",
       "    <tr>\n",
       "      <th>5</th>\n",
       "      <td>Ram Mahesh</td>\n",
       "      <td>USA</td>\n",
       "      <td>Peanut Butter Cubes</td>\n",
       "      <td>$8,869</td>\n",
       "      <td>432</td>\n",
       "      <td>12</td>\n",
       "    </tr>\n",
       "    <tr>\n",
       "      <th>6</th>\n",
       "      <td>Curtice Advani</td>\n",
       "      <td>Australia</td>\n",
       "      <td>Smooth Sliky Salty</td>\n",
       "      <td>$2,681</td>\n",
       "      <td>54</td>\n",
       "      <td>6</td>\n",
       "    </tr>\n",
       "    <tr>\n",
       "      <th>7</th>\n",
       "      <td>Brien Boise</td>\n",
       "      <td>USA</td>\n",
       "      <td>After Nines</td>\n",
       "      <td>$5,012</td>\n",
       "      <td>210</td>\n",
       "      <td>10</td>\n",
       "    </tr>\n",
       "    <tr>\n",
       "      <th>8</th>\n",
       "      <td>Ches Bonnell</td>\n",
       "      <td>Australia</td>\n",
       "      <td>50% Dark Bites</td>\n",
       "      <td>$1,281</td>\n",
       "      <td>75</td>\n",
       "      <td>12</td>\n",
       "    </tr>\n",
       "    <tr>\n",
       "      <th>9</th>\n",
       "      <td>Gigi Bohling</td>\n",
       "      <td>New Zealand</td>\n",
       "      <td>50% Dark Bites</td>\n",
       "      <td>$4,991</td>\n",
       "      <td>12</td>\n",
       "      <td>12</td>\n",
       "    </tr>\n",
       "  </tbody>\n",
       "</table>\n",
       "</div>"
      ],
      "text/plain": [
       "     Sales Person    Geography               Product   Amount  Units  \\\n",
       "0      Ram Mahesh  New Zealand        70% Dark Bites  $1,624     114   \n",
       "1     Brien Boise          USA  Choco Coated Almonds  $6,706     459   \n",
       "2    Husein Augar          USA          Almond Choco    $959     147   \n",
       "3    Carla Molina       Canada         Drinking Coco  $9,632     288   \n",
       "4  Curtice Advani           UK            White Choc  $2,100     414   \n",
       "5      Ram Mahesh          USA   Peanut Butter Cubes  $8,869     432   \n",
       "6  Curtice Advani    Australia    Smooth Sliky Salty  $2,681      54   \n",
       "7     Brien Boise          USA           After Nines  $5,012     210   \n",
       "8    Ches Bonnell    Australia        50% Dark Bites  $1,281      75   \n",
       "9    Gigi Bohling  New Zealand        50% Dark Bites  $4,991      12   \n",
       "\n",
       "   cost per unit  \n",
       "0             14  \n",
       "1              9  \n",
       "2             12  \n",
       "3              6  \n",
       "4             13  \n",
       "5             12  \n",
       "6              6  \n",
       "7             10  \n",
       "8             12  \n",
       "9             12  "
      ]
     },
     "execution_count": 7,
     "metadata": {},
     "output_type": "execute_result"
    }
   ],
   "source": [
    "# Accessing all rows and columns using loc\n",
    "df.loc[:,:].head(10)"
   ]
  },
  {
   "cell_type": "code",
   "execution_count": 8,
   "id": "697451c6",
   "metadata": {
    "execution": {
     "iopub.execute_input": "2023-05-02T19:53:35.016895Z",
     "iopub.status.busy": "2023-05-02T19:53:35.016487Z",
     "iopub.status.idle": "2023-05-02T19:53:35.027735Z",
     "shell.execute_reply": "2023-05-02T19:53:35.026855Z"
    },
    "papermill": {
     "duration": 0.02453,
     "end_time": "2023-05-02T19:53:35.029812",
     "exception": false,
     "start_time": "2023-05-02T19:53:35.005282",
     "status": "completed"
    },
    "tags": []
   },
   "outputs": [
    {
     "data": {
      "text/html": [
       "<div>\n",
       "<style scoped>\n",
       "    .dataframe tbody tr th:only-of-type {\n",
       "        vertical-align: middle;\n",
       "    }\n",
       "\n",
       "    .dataframe tbody tr th {\n",
       "        vertical-align: top;\n",
       "    }\n",
       "\n",
       "    .dataframe thead th {\n",
       "        text-align: right;\n",
       "    }\n",
       "</style>\n",
       "<table border=\"1\" class=\"dataframe\">\n",
       "  <thead>\n",
       "    <tr style=\"text-align: right;\">\n",
       "      <th></th>\n",
       "      <th>Sales Person</th>\n",
       "      <th>Product</th>\n",
       "    </tr>\n",
       "  </thead>\n",
       "  <tbody>\n",
       "    <tr>\n",
       "      <th>0</th>\n",
       "      <td>Ram Mahesh</td>\n",
       "      <td>70% Dark Bites</td>\n",
       "    </tr>\n",
       "    <tr>\n",
       "      <th>1</th>\n",
       "      <td>Brien Boise</td>\n",
       "      <td>Choco Coated Almonds</td>\n",
       "    </tr>\n",
       "    <tr>\n",
       "      <th>2</th>\n",
       "      <td>Husein Augar</td>\n",
       "      <td>Almond Choco</td>\n",
       "    </tr>\n",
       "    <tr>\n",
       "      <th>3</th>\n",
       "      <td>Carla Molina</td>\n",
       "      <td>Drinking Coco</td>\n",
       "    </tr>\n",
       "    <tr>\n",
       "      <th>4</th>\n",
       "      <td>Curtice Advani</td>\n",
       "      <td>White Choc</td>\n",
       "    </tr>\n",
       "    <tr>\n",
       "      <th>5</th>\n",
       "      <td>Ram Mahesh</td>\n",
       "      <td>Peanut Butter Cubes</td>\n",
       "    </tr>\n",
       "    <tr>\n",
       "      <th>6</th>\n",
       "      <td>Curtice Advani</td>\n",
       "      <td>Smooth Sliky Salty</td>\n",
       "    </tr>\n",
       "    <tr>\n",
       "      <th>7</th>\n",
       "      <td>Brien Boise</td>\n",
       "      <td>After Nines</td>\n",
       "    </tr>\n",
       "    <tr>\n",
       "      <th>8</th>\n",
       "      <td>Ches Bonnell</td>\n",
       "      <td>50% Dark Bites</td>\n",
       "    </tr>\n",
       "    <tr>\n",
       "      <th>9</th>\n",
       "      <td>Gigi Bohling</td>\n",
       "      <td>50% Dark Bites</td>\n",
       "    </tr>\n",
       "  </tbody>\n",
       "</table>\n",
       "</div>"
      ],
      "text/plain": [
       "     Sales Person               Product\n",
       "0      Ram Mahesh        70% Dark Bites\n",
       "1     Brien Boise  Choco Coated Almonds\n",
       "2    Husein Augar          Almond Choco\n",
       "3    Carla Molina         Drinking Coco\n",
       "4  Curtice Advani            White Choc\n",
       "5      Ram Mahesh   Peanut Butter Cubes\n",
       "6  Curtice Advani    Smooth Sliky Salty\n",
       "7     Brien Boise           After Nines\n",
       "8    Ches Bonnell        50% Dark Bites\n",
       "9    Gigi Bohling        50% Dark Bites"
      ]
     },
     "execution_count": 8,
     "metadata": {},
     "output_type": "execute_result"
    }
   ],
   "source": [
    "# Accesing all rows and selected columns\n",
    "df.loc[:, ['Sales Person', 'Product']].head(10)"
   ]
  },
  {
   "cell_type": "code",
   "execution_count": 9,
   "id": "f4790c7f",
   "metadata": {
    "execution": {
     "iopub.execute_input": "2023-05-02T19:53:35.051127Z",
     "iopub.status.busy": "2023-05-02T19:53:35.050263Z",
     "iopub.status.idle": "2023-05-02T19:53:35.068540Z",
     "shell.execute_reply": "2023-05-02T19:53:35.067322Z"
    },
    "papermill": {
     "duration": 0.031355,
     "end_time": "2023-05-02T19:53:35.070832",
     "exception": false,
     "start_time": "2023-05-02T19:53:35.039477",
     "status": "completed"
    },
    "tags": []
   },
   "outputs": [
    {
     "data": {
      "text/html": [
       "<div>\n",
       "<style scoped>\n",
       "    .dataframe tbody tr th:only-of-type {\n",
       "        vertical-align: middle;\n",
       "    }\n",
       "\n",
       "    .dataframe tbody tr th {\n",
       "        vertical-align: top;\n",
       "    }\n",
       "\n",
       "    .dataframe thead th {\n",
       "        text-align: right;\n",
       "    }\n",
       "</style>\n",
       "<table border=\"1\" class=\"dataframe\">\n",
       "  <thead>\n",
       "    <tr style=\"text-align: right;\">\n",
       "      <th></th>\n",
       "      <th>Sales Person</th>\n",
       "      <th>Geography</th>\n",
       "      <th>Product</th>\n",
       "      <th>Amount</th>\n",
       "    </tr>\n",
       "  </thead>\n",
       "  <tbody>\n",
       "    <tr>\n",
       "      <th>0</th>\n",
       "      <td>Ram Mahesh</td>\n",
       "      <td>New Zealand</td>\n",
       "      <td>70% Dark Bites</td>\n",
       "      <td>$1,624</td>\n",
       "    </tr>\n",
       "    <tr>\n",
       "      <th>1</th>\n",
       "      <td>Brien Boise</td>\n",
       "      <td>USA</td>\n",
       "      <td>Choco Coated Almonds</td>\n",
       "      <td>$6,706</td>\n",
       "    </tr>\n",
       "    <tr>\n",
       "      <th>2</th>\n",
       "      <td>Husein Augar</td>\n",
       "      <td>USA</td>\n",
       "      <td>Almond Choco</td>\n",
       "      <td>$959</td>\n",
       "    </tr>\n",
       "    <tr>\n",
       "      <th>3</th>\n",
       "      <td>Carla Molina</td>\n",
       "      <td>Canada</td>\n",
       "      <td>Drinking Coco</td>\n",
       "      <td>$9,632</td>\n",
       "    </tr>\n",
       "    <tr>\n",
       "      <th>4</th>\n",
       "      <td>Curtice Advani</td>\n",
       "      <td>UK</td>\n",
       "      <td>White Choc</td>\n",
       "      <td>$2,100</td>\n",
       "    </tr>\n",
       "    <tr>\n",
       "      <th>...</th>\n",
       "      <td>...</td>\n",
       "      <td>...</td>\n",
       "      <td>...</td>\n",
       "      <td>...</td>\n",
       "    </tr>\n",
       "    <tr>\n",
       "      <th>295</th>\n",
       "      <td>Gunar Cockshoot</td>\n",
       "      <td>New Zealand</td>\n",
       "      <td>Almond Choco</td>\n",
       "      <td>$938</td>\n",
       "    </tr>\n",
       "    <tr>\n",
       "      <th>296</th>\n",
       "      <td>Gunar Cockshoot</td>\n",
       "      <td>Australia</td>\n",
       "      <td>Baker's Choco Chips</td>\n",
       "      <td>$8,841</td>\n",
       "    </tr>\n",
       "    <tr>\n",
       "      <th>297</th>\n",
       "      <td>Barr Faughny</td>\n",
       "      <td>UK</td>\n",
       "      <td>Peanut Butter Cubes</td>\n",
       "      <td>$4,018</td>\n",
       "    </tr>\n",
       "    <tr>\n",
       "      <th>298</th>\n",
       "      <td>Carla Molina</td>\n",
       "      <td>New Zealand</td>\n",
       "      <td>Raspberry Choco</td>\n",
       "      <td>$714</td>\n",
       "    </tr>\n",
       "    <tr>\n",
       "      <th>299</th>\n",
       "      <td>Husein Augar</td>\n",
       "      <td>Australia</td>\n",
       "      <td>White Choc</td>\n",
       "      <td>$3,850</td>\n",
       "    </tr>\n",
       "  </tbody>\n",
       "</table>\n",
       "<p>300 rows × 4 columns</p>\n",
       "</div>"
      ],
      "text/plain": [
       "        Sales Person    Geography               Product   Amount\n",
       "0         Ram Mahesh  New Zealand        70% Dark Bites  $1,624 \n",
       "1        Brien Boise          USA  Choco Coated Almonds  $6,706 \n",
       "2       Husein Augar          USA          Almond Choco    $959 \n",
       "3       Carla Molina       Canada         Drinking Coco  $9,632 \n",
       "4     Curtice Advani           UK            White Choc  $2,100 \n",
       "..               ...          ...                   ...      ...\n",
       "295  Gunar Cockshoot  New Zealand          Almond Choco    $938 \n",
       "296  Gunar Cockshoot    Australia   Baker's Choco Chips  $8,841 \n",
       "297     Barr Faughny           UK   Peanut Butter Cubes  $4,018 \n",
       "298     Carla Molina  New Zealand       Raspberry Choco    $714 \n",
       "299     Husein Augar    Australia            White Choc  $3,850 \n",
       "\n",
       "[300 rows x 4 columns]"
      ]
     },
     "execution_count": 9,
     "metadata": {},
     "output_type": "execute_result"
    }
   ],
   "source": [
    "df.loc[:, 'Sales Person':'Amount']"
   ]
  },
  {
   "cell_type": "code",
   "execution_count": 10,
   "id": "932f69ea",
   "metadata": {
    "execution": {
     "iopub.execute_input": "2023-05-02T19:53:35.093418Z",
     "iopub.status.busy": "2023-05-02T19:53:35.092668Z",
     "iopub.status.idle": "2023-05-02T19:53:35.104413Z",
     "shell.execute_reply": "2023-05-02T19:53:35.103613Z"
    },
    "papermill": {
     "duration": 0.025661,
     "end_time": "2023-05-02T19:53:35.106548",
     "exception": false,
     "start_time": "2023-05-02T19:53:35.080887",
     "status": "completed"
    },
    "tags": []
   },
   "outputs": [
    {
     "data": {
      "text/html": [
       "<div>\n",
       "<style scoped>\n",
       "    .dataframe tbody tr th:only-of-type {\n",
       "        vertical-align: middle;\n",
       "    }\n",
       "\n",
       "    .dataframe tbody tr th {\n",
       "        vertical-align: top;\n",
       "    }\n",
       "\n",
       "    .dataframe thead th {\n",
       "        text-align: right;\n",
       "    }\n",
       "</style>\n",
       "<table border=\"1\" class=\"dataframe\">\n",
       "  <thead>\n",
       "    <tr style=\"text-align: right;\">\n",
       "      <th></th>\n",
       "      <th>Sales Person</th>\n",
       "      <th>Geography</th>\n",
       "      <th>Product</th>\n",
       "      <th>Amount</th>\n",
       "    </tr>\n",
       "  </thead>\n",
       "  <tbody>\n",
       "    <tr>\n",
       "      <th>2</th>\n",
       "      <td>Husein Augar</td>\n",
       "      <td>USA</td>\n",
       "      <td>Almond Choco</td>\n",
       "      <td>$959</td>\n",
       "    </tr>\n",
       "    <tr>\n",
       "      <th>3</th>\n",
       "      <td>Carla Molina</td>\n",
       "      <td>Canada</td>\n",
       "      <td>Drinking Coco</td>\n",
       "      <td>$9,632</td>\n",
       "    </tr>\n",
       "    <tr>\n",
       "      <th>4</th>\n",
       "      <td>Curtice Advani</td>\n",
       "      <td>UK</td>\n",
       "      <td>White Choc</td>\n",
       "      <td>$2,100</td>\n",
       "    </tr>\n",
       "    <tr>\n",
       "      <th>5</th>\n",
       "      <td>Ram Mahesh</td>\n",
       "      <td>USA</td>\n",
       "      <td>Peanut Butter Cubes</td>\n",
       "      <td>$8,869</td>\n",
       "    </tr>\n",
       "    <tr>\n",
       "      <th>6</th>\n",
       "      <td>Curtice Advani</td>\n",
       "      <td>Australia</td>\n",
       "      <td>Smooth Sliky Salty</td>\n",
       "      <td>$2,681</td>\n",
       "    </tr>\n",
       "    <tr>\n",
       "      <th>7</th>\n",
       "      <td>Brien Boise</td>\n",
       "      <td>USA</td>\n",
       "      <td>After Nines</td>\n",
       "      <td>$5,012</td>\n",
       "    </tr>\n",
       "    <tr>\n",
       "      <th>8</th>\n",
       "      <td>Ches Bonnell</td>\n",
       "      <td>Australia</td>\n",
       "      <td>50% Dark Bites</td>\n",
       "      <td>$1,281</td>\n",
       "    </tr>\n",
       "    <tr>\n",
       "      <th>9</th>\n",
       "      <td>Gigi Bohling</td>\n",
       "      <td>New Zealand</td>\n",
       "      <td>50% Dark Bites</td>\n",
       "      <td>$4,991</td>\n",
       "    </tr>\n",
       "  </tbody>\n",
       "</table>\n",
       "</div>"
      ],
      "text/plain": [
       "     Sales Person    Geography              Product   Amount\n",
       "2    Husein Augar          USA         Almond Choco    $959 \n",
       "3    Carla Molina       Canada        Drinking Coco  $9,632 \n",
       "4  Curtice Advani           UK           White Choc  $2,100 \n",
       "5      Ram Mahesh          USA  Peanut Butter Cubes  $8,869 \n",
       "6  Curtice Advani    Australia   Smooth Sliky Salty  $2,681 \n",
       "7     Brien Boise          USA          After Nines  $5,012 \n",
       "8    Ches Bonnell    Australia       50% Dark Bites  $1,281 \n",
       "9    Gigi Bohling  New Zealand       50% Dark Bites  $4,991 "
      ]
     },
     "execution_count": 10,
     "metadata": {},
     "output_type": "execute_result"
    }
   ],
   "source": [
    "df.loc[2:9, 'Sales Person':'Amount']"
   ]
  },
  {
   "cell_type": "code",
   "execution_count": 11,
   "id": "d67e8cb3",
   "metadata": {
    "execution": {
     "iopub.execute_input": "2023-05-02T19:53:35.129555Z",
     "iopub.status.busy": "2023-05-02T19:53:35.128791Z",
     "iopub.status.idle": "2023-05-02T19:53:35.139060Z",
     "shell.execute_reply": "2023-05-02T19:53:35.137845Z"
    },
    "papermill": {
     "duration": 0.0241,
     "end_time": "2023-05-02T19:53:35.141236",
     "exception": false,
     "start_time": "2023-05-02T19:53:35.117136",
     "status": "completed"
    },
    "tags": []
   },
   "outputs": [
    {
     "data": {
      "text/html": [
       "<div>\n",
       "<style scoped>\n",
       "    .dataframe tbody tr th:only-of-type {\n",
       "        vertical-align: middle;\n",
       "    }\n",
       "\n",
       "    .dataframe tbody tr th {\n",
       "        vertical-align: top;\n",
       "    }\n",
       "\n",
       "    .dataframe thead th {\n",
       "        text-align: right;\n",
       "    }\n",
       "</style>\n",
       "<table border=\"1\" class=\"dataframe\">\n",
       "  <thead>\n",
       "    <tr style=\"text-align: right;\">\n",
       "      <th></th>\n",
       "      <th>Geography</th>\n",
       "      <th>Product</th>\n",
       "    </tr>\n",
       "  </thead>\n",
       "  <tbody>\n",
       "    <tr>\n",
       "      <th>5</th>\n",
       "      <td>USA</td>\n",
       "      <td>Peanut Butter Cubes</td>\n",
       "    </tr>\n",
       "    <tr>\n",
       "      <th>6</th>\n",
       "      <td>Australia</td>\n",
       "      <td>Smooth Sliky Salty</td>\n",
       "    </tr>\n",
       "    <tr>\n",
       "      <th>7</th>\n",
       "      <td>USA</td>\n",
       "      <td>After Nines</td>\n",
       "    </tr>\n",
       "    <tr>\n",
       "      <th>8</th>\n",
       "      <td>Australia</td>\n",
       "      <td>50% Dark Bites</td>\n",
       "    </tr>\n",
       "  </tbody>\n",
       "</table>\n",
       "</div>"
      ],
      "text/plain": [
       "   Geography              Product\n",
       "5        USA  Peanut Butter Cubes\n",
       "6  Australia   Smooth Sliky Salty\n",
       "7        USA          After Nines\n",
       "8  Australia       50% Dark Bites"
      ]
     },
     "execution_count": 11,
     "metadata": {},
     "output_type": "execute_result"
    }
   ],
   "source": [
    "# By using iloc for Accessing columns in indexing\n",
    "df.iloc[5:9, 1:3]"
   ]
  },
  {
   "cell_type": "markdown",
   "id": "b7c64968",
   "metadata": {
    "papermill": {
     "duration": 0.010345,
     "end_time": "2023-05-02T19:53:35.161990",
     "exception": false,
     "start_time": "2023-05-02T19:53:35.151645",
     "status": "completed"
    },
    "tags": []
   },
   "source": [
    "**3. Cleaning the data:**"
   ]
  },
  {
   "cell_type": "code",
   "execution_count": 12,
   "id": "56b6f8bc",
   "metadata": {
    "execution": {
     "iopub.execute_input": "2023-05-02T19:53:35.184518Z",
     "iopub.status.busy": "2023-05-02T19:53:35.184080Z",
     "iopub.status.idle": "2023-05-02T19:53:35.192968Z",
     "shell.execute_reply": "2023-05-02T19:53:35.192181Z"
    },
    "papermill": {
     "duration": 0.022368,
     "end_time": "2023-05-02T19:53:35.194936",
     "exception": false,
     "start_time": "2023-05-02T19:53:35.172568",
     "status": "completed"
    },
    "tags": []
   },
   "outputs": [
    {
     "data": {
      "text/plain": [
       "Sales Person     0\n",
       "Geography        0\n",
       "Product          0\n",
       "Amount           0\n",
       "Units            0\n",
       "cost per unit    0\n",
       "dtype: int64"
      ]
     },
     "execution_count": 12,
     "metadata": {},
     "output_type": "execute_result"
    }
   ],
   "source": [
    "# Checking for missing values:\n",
    "df.isnull().sum()"
   ]
  },
  {
   "cell_type": "markdown",
   "id": "c0cc604e",
   "metadata": {
    "papermill": {
     "duration": 0.00998,
     "end_time": "2023-05-02T19:53:35.215051",
     "exception": false,
     "start_time": "2023-05-02T19:53:35.205071",
     "status": "completed"
    },
    "tags": []
   },
   "source": [
    "**4. Exploring the data:**"
   ]
  },
  {
   "cell_type": "code",
   "execution_count": 13,
   "id": "f36e0c98",
   "metadata": {
    "execution": {
     "iopub.execute_input": "2023-05-02T19:53:35.237239Z",
     "iopub.status.busy": "2023-05-02T19:53:35.236615Z",
     "iopub.status.idle": "2023-05-02T19:53:35.254569Z",
     "shell.execute_reply": "2023-05-02T19:53:35.253619Z"
    },
    "papermill": {
     "duration": 0.031672,
     "end_time": "2023-05-02T19:53:35.256846",
     "exception": false,
     "start_time": "2023-05-02T19:53:35.225174",
     "status": "completed"
    },
    "tags": []
   },
   "outputs": [
    {
     "data": {
      "text/html": [
       "<div>\n",
       "<style scoped>\n",
       "    .dataframe tbody tr th:only-of-type {\n",
       "        vertical-align: middle;\n",
       "    }\n",
       "\n",
       "    .dataframe tbody tr th {\n",
       "        vertical-align: top;\n",
       "    }\n",
       "\n",
       "    .dataframe thead th {\n",
       "        text-align: right;\n",
       "    }\n",
       "</style>\n",
       "<table border=\"1\" class=\"dataframe\">\n",
       "  <thead>\n",
       "    <tr style=\"text-align: right;\">\n",
       "      <th></th>\n",
       "      <th>Units</th>\n",
       "      <th>cost per unit</th>\n",
       "    </tr>\n",
       "  </thead>\n",
       "  <tbody>\n",
       "    <tr>\n",
       "      <th>count</th>\n",
       "      <td>300.000000</td>\n",
       "      <td>300.000000</td>\n",
       "    </tr>\n",
       "    <tr>\n",
       "      <th>mean</th>\n",
       "      <td>152.200000</td>\n",
       "      <td>9.473333</td>\n",
       "    </tr>\n",
       "    <tr>\n",
       "      <th>std</th>\n",
       "      <td>118.099499</td>\n",
       "      <td>3.457717</td>\n",
       "    </tr>\n",
       "    <tr>\n",
       "      <th>min</th>\n",
       "      <td>0.000000</td>\n",
       "      <td>3.000000</td>\n",
       "    </tr>\n",
       "    <tr>\n",
       "      <th>25%</th>\n",
       "      <td>54.000000</td>\n",
       "      <td>6.000000</td>\n",
       "    </tr>\n",
       "    <tr>\n",
       "      <th>50%</th>\n",
       "      <td>124.500000</td>\n",
       "      <td>9.000000</td>\n",
       "    </tr>\n",
       "    <tr>\n",
       "      <th>75%</th>\n",
       "      <td>220.500000</td>\n",
       "      <td>12.000000</td>\n",
       "    </tr>\n",
       "    <tr>\n",
       "      <th>max</th>\n",
       "      <td>525.000000</td>\n",
       "      <td>17.000000</td>\n",
       "    </tr>\n",
       "  </tbody>\n",
       "</table>\n",
       "</div>"
      ],
      "text/plain": [
       "            Units  cost per unit\n",
       "count  300.000000     300.000000\n",
       "mean   152.200000       9.473333\n",
       "std    118.099499       3.457717\n",
       "min      0.000000       3.000000\n",
       "25%     54.000000       6.000000\n",
       "50%    124.500000       9.000000\n",
       "75%    220.500000      12.000000\n",
       "max    525.000000      17.000000"
      ]
     },
     "execution_count": 13,
     "metadata": {},
     "output_type": "execute_result"
    }
   ],
   "source": [
    "#  Descriptive statistics:\n",
    "df.describe()"
   ]
  },
  {
   "cell_type": "code",
   "execution_count": 14,
   "id": "add43e36",
   "metadata": {
    "execution": {
     "iopub.execute_input": "2023-05-02T19:53:35.280373Z",
     "iopub.status.busy": "2023-05-02T19:53:35.279695Z",
     "iopub.status.idle": "2023-05-02T19:53:35.294239Z",
     "shell.execute_reply": "2023-05-02T19:53:35.293127Z"
    },
    "papermill": {
     "duration": 0.028995,
     "end_time": "2023-05-02T19:53:35.296552",
     "exception": false,
     "start_time": "2023-05-02T19:53:35.267557",
     "status": "completed"
    },
    "tags": []
   },
   "outputs": [
    {
     "data": {
      "text/html": [
       "<div>\n",
       "<style scoped>\n",
       "    .dataframe tbody tr th:only-of-type {\n",
       "        vertical-align: middle;\n",
       "    }\n",
       "\n",
       "    .dataframe tbody tr th {\n",
       "        vertical-align: top;\n",
       "    }\n",
       "\n",
       "    .dataframe thead th {\n",
       "        text-align: right;\n",
       "    }\n",
       "</style>\n",
       "<table border=\"1\" class=\"dataframe\">\n",
       "  <thead>\n",
       "    <tr style=\"text-align: right;\">\n",
       "      <th></th>\n",
       "      <th>Sales Person</th>\n",
       "      <th>Geography</th>\n",
       "      <th>Product</th>\n",
       "      <th>Amount</th>\n",
       "      <th>Units</th>\n",
       "      <th>cost per unit</th>\n",
       "    </tr>\n",
       "  </thead>\n",
       "  <tbody>\n",
       "    <tr>\n",
       "      <th>0</th>\n",
       "      <td>Ram Mahesh</td>\n",
       "      <td>New Zealand</td>\n",
       "      <td>70% Dark Bites</td>\n",
       "      <td>$1,624</td>\n",
       "      <td>114</td>\n",
       "      <td>14</td>\n",
       "    </tr>\n",
       "    <tr>\n",
       "      <th>1</th>\n",
       "      <td>Brien Boise</td>\n",
       "      <td>USA</td>\n",
       "      <td>Choco Coated Almonds</td>\n",
       "      <td>$6,706</td>\n",
       "      <td>459</td>\n",
       "      <td>9</td>\n",
       "    </tr>\n",
       "    <tr>\n",
       "      <th>2</th>\n",
       "      <td>Husein Augar</td>\n",
       "      <td>USA</td>\n",
       "      <td>Almond Choco</td>\n",
       "      <td>$959</td>\n",
       "      <td>147</td>\n",
       "      <td>12</td>\n",
       "    </tr>\n",
       "    <tr>\n",
       "      <th>3</th>\n",
       "      <td>Carla Molina</td>\n",
       "      <td>Canada</td>\n",
       "      <td>Drinking Coco</td>\n",
       "      <td>$9,632</td>\n",
       "      <td>288</td>\n",
       "      <td>6</td>\n",
       "    </tr>\n",
       "    <tr>\n",
       "      <th>4</th>\n",
       "      <td>Curtice Advani</td>\n",
       "      <td>UK</td>\n",
       "      <td>White Choc</td>\n",
       "      <td>$2,100</td>\n",
       "      <td>414</td>\n",
       "      <td>13</td>\n",
       "    </tr>\n",
       "    <tr>\n",
       "      <th>...</th>\n",
       "      <td>...</td>\n",
       "      <td>...</td>\n",
       "      <td>...</td>\n",
       "      <td>...</td>\n",
       "      <td>...</td>\n",
       "      <td>...</td>\n",
       "    </tr>\n",
       "    <tr>\n",
       "      <th>295</th>\n",
       "      <td>Gunar Cockshoot</td>\n",
       "      <td>New Zealand</td>\n",
       "      <td>Almond Choco</td>\n",
       "      <td>$938</td>\n",
       "      <td>366</td>\n",
       "      <td>12</td>\n",
       "    </tr>\n",
       "    <tr>\n",
       "      <th>296</th>\n",
       "      <td>Gunar Cockshoot</td>\n",
       "      <td>Australia</td>\n",
       "      <td>Baker's Choco Chips</td>\n",
       "      <td>$8,841</td>\n",
       "      <td>303</td>\n",
       "      <td>6</td>\n",
       "    </tr>\n",
       "    <tr>\n",
       "      <th>297</th>\n",
       "      <td>Barr Faughny</td>\n",
       "      <td>UK</td>\n",
       "      <td>Peanut Butter Cubes</td>\n",
       "      <td>$4,018</td>\n",
       "      <td>126</td>\n",
       "      <td>12</td>\n",
       "    </tr>\n",
       "    <tr>\n",
       "      <th>298</th>\n",
       "      <td>Carla Molina</td>\n",
       "      <td>New Zealand</td>\n",
       "      <td>Raspberry Choco</td>\n",
       "      <td>$714</td>\n",
       "      <td>231</td>\n",
       "      <td>12</td>\n",
       "    </tr>\n",
       "    <tr>\n",
       "      <th>299</th>\n",
       "      <td>Husein Augar</td>\n",
       "      <td>Australia</td>\n",
       "      <td>White Choc</td>\n",
       "      <td>$3,850</td>\n",
       "      <td>102</td>\n",
       "      <td>13</td>\n",
       "    </tr>\n",
       "  </tbody>\n",
       "</table>\n",
       "<p>300 rows × 6 columns</p>\n",
       "</div>"
      ],
      "text/plain": [
       "        Sales Person    Geography               Product   Amount  Units  \\\n",
       "0         Ram Mahesh  New Zealand        70% Dark Bites  $1,624     114   \n",
       "1        Brien Boise          USA  Choco Coated Almonds  $6,706     459   \n",
       "2       Husein Augar          USA          Almond Choco    $959     147   \n",
       "3       Carla Molina       Canada         Drinking Coco  $9,632     288   \n",
       "4     Curtice Advani           UK            White Choc  $2,100     414   \n",
       "..               ...          ...                   ...      ...    ...   \n",
       "295  Gunar Cockshoot  New Zealand          Almond Choco    $938     366   \n",
       "296  Gunar Cockshoot    Australia   Baker's Choco Chips  $8,841     303   \n",
       "297     Barr Faughny           UK   Peanut Butter Cubes  $4,018     126   \n",
       "298     Carla Molina  New Zealand       Raspberry Choco    $714     231   \n",
       "299     Husein Augar    Australia            White Choc  $3,850     102   \n",
       "\n",
       "     cost per unit  \n",
       "0               14  \n",
       "1                9  \n",
       "2               12  \n",
       "3                6  \n",
       "4               13  \n",
       "..             ...  \n",
       "295             12  \n",
       "296              6  \n",
       "297             12  \n",
       "298             12  \n",
       "299             13  \n",
       "\n",
       "[300 rows x 6 columns]"
      ]
     },
     "execution_count": 14,
     "metadata": {},
     "output_type": "execute_result"
    }
   ],
   "source": [
    "df"
   ]
  },
  {
   "cell_type": "code",
   "execution_count": 15,
   "id": "530ed61f",
   "metadata": {
    "execution": {
     "iopub.execute_input": "2023-05-02T19:53:35.320044Z",
     "iopub.status.busy": "2023-05-02T19:53:35.319645Z",
     "iopub.status.idle": "2023-05-02T19:53:35.327696Z",
     "shell.execute_reply": "2023-05-02T19:53:35.326595Z"
    },
    "papermill": {
     "duration": 0.02264,
     "end_time": "2023-05-02T19:53:35.330025",
     "exception": false,
     "start_time": "2023-05-02T19:53:35.307385",
     "status": "completed"
    },
    "tags": []
   },
   "outputs": [
    {
     "name": "stderr",
     "output_type": "stream",
     "text": [
      "/opt/conda/lib/python3.7/site-packages/ipykernel_launcher.py:4: FutureWarning: The default value of regex will change from True to False in a future version. In addition, single character regular expressions will *not* be treated as literal strings when regex=True.\n",
      "  after removing the cwd from sys.path.\n"
     ]
    }
   ],
   "source": [
    "# removing dollar symbol and comma in the Amount column to conver it to flaot from object, \n",
    "# which we can use for further calculations \n",
    "df['Amount'] = df['Amount'].str.replace(',','')\n",
    "df['Amount'] = df['Amount'].str.replace('$','')"
   ]
  },
  {
   "cell_type": "code",
   "execution_count": 16,
   "id": "64b4d52b",
   "metadata": {
    "execution": {
     "iopub.execute_input": "2023-05-02T19:53:35.353289Z",
     "iopub.status.busy": "2023-05-02T19:53:35.352868Z",
     "iopub.status.idle": "2023-05-02T19:53:35.358655Z",
     "shell.execute_reply": "2023-05-02T19:53:35.357616Z"
    },
    "papermill": {
     "duration": 0.019973,
     "end_time": "2023-05-02T19:53:35.360850",
     "exception": false,
     "start_time": "2023-05-02T19:53:35.340877",
     "status": "completed"
    },
    "tags": []
   },
   "outputs": [],
   "source": [
    "# converting the Amount column to float\n",
    "df['Amount'] = df['Amount'].astype(float)"
   ]
  },
  {
   "cell_type": "code",
   "execution_count": 17,
   "id": "f075f21b",
   "metadata": {
    "execution": {
     "iopub.execute_input": "2023-05-02T19:53:35.385299Z",
     "iopub.status.busy": "2023-05-02T19:53:35.384143Z",
     "iopub.status.idle": "2023-05-02T19:53:35.392279Z",
     "shell.execute_reply": "2023-05-02T19:53:35.391120Z"
    },
    "papermill": {
     "duration": 0.022973,
     "end_time": "2023-05-02T19:53:35.394974",
     "exception": false,
     "start_time": "2023-05-02T19:53:35.372001",
     "status": "completed"
    },
    "tags": []
   },
   "outputs": [
    {
     "data": {
      "text/plain": [
       "Sales Person      object\n",
       "Geography         object\n",
       "Product           object\n",
       "Amount           float64\n",
       "Units              int64\n",
       "cost per unit      int64\n",
       "dtype: object"
      ]
     },
     "execution_count": 17,
     "metadata": {},
     "output_type": "execute_result"
    }
   ],
   "source": [
    "# checking the data_types of all the columns as you can see the type of Amount is converted to float\n",
    "df.dtypes"
   ]
  },
  {
   "cell_type": "code",
   "execution_count": 18,
   "id": "8e8a7a32",
   "metadata": {
    "execution": {
     "iopub.execute_input": "2023-05-02T19:53:35.418872Z",
     "iopub.status.busy": "2023-05-02T19:53:35.418466Z",
     "iopub.status.idle": "2023-05-02T19:53:35.434026Z",
     "shell.execute_reply": "2023-05-02T19:53:35.432883Z"
    },
    "papermill": {
     "duration": 0.030507,
     "end_time": "2023-05-02T19:53:35.436518",
     "exception": false,
     "start_time": "2023-05-02T19:53:35.406011",
     "status": "completed"
    },
    "tags": []
   },
   "outputs": [
    {
     "data": {
      "text/html": [
       "<div>\n",
       "<style scoped>\n",
       "    .dataframe tbody tr th:only-of-type {\n",
       "        vertical-align: middle;\n",
       "    }\n",
       "\n",
       "    .dataframe tbody tr th {\n",
       "        vertical-align: top;\n",
       "    }\n",
       "\n",
       "    .dataframe thead th {\n",
       "        text-align: right;\n",
       "    }\n",
       "</style>\n",
       "<table border=\"1\" class=\"dataframe\">\n",
       "  <thead>\n",
       "    <tr style=\"text-align: right;\">\n",
       "      <th></th>\n",
       "      <th>Sales Person</th>\n",
       "      <th>Geography</th>\n",
       "      <th>Product</th>\n",
       "      <th>Amount</th>\n",
       "      <th>Units</th>\n",
       "      <th>cost per unit</th>\n",
       "    </tr>\n",
       "  </thead>\n",
       "  <tbody>\n",
       "    <tr>\n",
       "      <th>57</th>\n",
       "      <td>Gunar Cockshoot</td>\n",
       "      <td>India</td>\n",
       "      <td>Choco Coated Almonds</td>\n",
       "      <td>7777.0</td>\n",
       "      <td>504</td>\n",
       "      <td>9</td>\n",
       "    </tr>\n",
       "    <tr>\n",
       "      <th>70</th>\n",
       "      <td>Oby Sorrel</td>\n",
       "      <td>Australia</td>\n",
       "      <td>50% Dark Bites</td>\n",
       "      <td>5586.0</td>\n",
       "      <td>525</td>\n",
       "      <td>12</td>\n",
       "    </tr>\n",
       "    <tr>\n",
       "      <th>101</th>\n",
       "      <td>Barr Faughny</td>\n",
       "      <td>Canada</td>\n",
       "      <td>Organic Choco Syrup</td>\n",
       "      <td>798.0</td>\n",
       "      <td>519</td>\n",
       "      <td>17</td>\n",
       "    </tr>\n",
       "    <tr>\n",
       "      <th>145</th>\n",
       "      <td>Brien Boise</td>\n",
       "      <td>Australia</td>\n",
       "      <td>Milk Bars</td>\n",
       "      <td>819.0</td>\n",
       "      <td>510</td>\n",
       "      <td>9</td>\n",
       "    </tr>\n",
       "  </tbody>\n",
       "</table>\n",
       "</div>"
      ],
      "text/plain": [
       "        Sales Person  Geography               Product  Amount  Units  \\\n",
       "57   Gunar Cockshoot      India  Choco Coated Almonds  7777.0    504   \n",
       "70        Oby Sorrel  Australia        50% Dark Bites  5586.0    525   \n",
       "101     Barr Faughny     Canada   Organic Choco Syrup   798.0    519   \n",
       "145      Brien Boise  Australia             Milk Bars   819.0    510   \n",
       "\n",
       "     cost per unit  \n",
       "57               9  \n",
       "70              12  \n",
       "101             17  \n",
       "145              9  "
      ]
     },
     "execution_count": 18,
     "metadata": {},
     "output_type": "execute_result"
    }
   ],
   "source": [
    "# filtering the rows greater than 500 in units\n",
    "filter = df['Units'] > 500\n",
    "df[filter]"
   ]
  },
  {
   "cell_type": "code",
   "execution_count": 19,
   "id": "158faf3d",
   "metadata": {
    "execution": {
     "iopub.execute_input": "2023-05-02T19:53:35.461321Z",
     "iopub.status.busy": "2023-05-02T19:53:35.460565Z",
     "iopub.status.idle": "2023-05-02T19:53:35.475123Z",
     "shell.execute_reply": "2023-05-02T19:53:35.474178Z"
    },
    "papermill": {
     "duration": 0.029707,
     "end_time": "2023-05-02T19:53:35.477602",
     "exception": false,
     "start_time": "2023-05-02T19:53:35.447895",
     "status": "completed"
    },
    "tags": []
   },
   "outputs": [
    {
     "data": {
      "text/html": [
       "<div>\n",
       "<style scoped>\n",
       "    .dataframe tbody tr th:only-of-type {\n",
       "        vertical-align: middle;\n",
       "    }\n",
       "\n",
       "    .dataframe tbody tr th {\n",
       "        vertical-align: top;\n",
       "    }\n",
       "\n",
       "    .dataframe thead th {\n",
       "        text-align: right;\n",
       "    }\n",
       "</style>\n",
       "<table border=\"1\" class=\"dataframe\">\n",
       "  <thead>\n",
       "    <tr style=\"text-align: right;\">\n",
       "      <th></th>\n",
       "      <th>Sales Person</th>\n",
       "      <th>Geography</th>\n",
       "      <th>Product</th>\n",
       "      <th>Amount</th>\n",
       "      <th>Units</th>\n",
       "      <th>cost per unit</th>\n",
       "    </tr>\n",
       "  </thead>\n",
       "  <tbody>\n",
       "    <tr>\n",
       "      <th>185</th>\n",
       "      <td>Gunar Cockshoot</td>\n",
       "      <td>India</td>\n",
       "      <td>50% Dark Bites</td>\n",
       "      <td>7259.0</td>\n",
       "      <td>276</td>\n",
       "      <td>12</td>\n",
       "    </tr>\n",
       "    <tr>\n",
       "      <th>192</th>\n",
       "      <td>Ches Bonnell</td>\n",
       "      <td>India</td>\n",
       "      <td>50% Dark Bites</td>\n",
       "      <td>1932.0</td>\n",
       "      <td>369</td>\n",
       "      <td>12</td>\n",
       "    </tr>\n",
       "  </tbody>\n",
       "</table>\n",
       "</div>"
      ],
      "text/plain": [
       "        Sales Person Geography         Product  Amount  Units  cost per unit\n",
       "185  Gunar Cockshoot     India  50% Dark Bites  7259.0    276             12\n",
       "192     Ches Bonnell     India  50% Dark Bites  1932.0    369             12"
      ]
     },
     "execution_count": 19,
     "metadata": {},
     "output_type": "execute_result"
    }
   ],
   "source": [
    "filter1 = df['Product'] == '50% Dark Bites'\n",
    "# filter2 = (df['Geography'] == 'India') | (df['Geography'] == 'Canada')\n",
    "filter2 = (df['Geography'] == 'India')\n",
    "filter3 = (df['Geography'] == 'Canada')\n",
    "df[filter1 & (filter2 | filter3)]"
   ]
  },
  {
   "cell_type": "code",
   "execution_count": 20,
   "id": "526d1db0",
   "metadata": {
    "execution": {
     "iopub.execute_input": "2023-05-02T19:53:35.502600Z",
     "iopub.status.busy": "2023-05-02T19:53:35.502151Z",
     "iopub.status.idle": "2023-05-02T19:53:35.516905Z",
     "shell.execute_reply": "2023-05-02T19:53:35.516039Z"
    },
    "papermill": {
     "duration": 0.029778,
     "end_time": "2023-05-02T19:53:35.518918",
     "exception": false,
     "start_time": "2023-05-02T19:53:35.489140",
     "status": "completed"
    },
    "tags": []
   },
   "outputs": [
    {
     "data": {
      "text/html": [
       "<div>\n",
       "<style scoped>\n",
       "    .dataframe tbody tr th:only-of-type {\n",
       "        vertical-align: middle;\n",
       "    }\n",
       "\n",
       "    .dataframe tbody tr th {\n",
       "        vertical-align: top;\n",
       "    }\n",
       "\n",
       "    .dataframe thead th {\n",
       "        text-align: right;\n",
       "    }\n",
       "</style>\n",
       "<table border=\"1\" class=\"dataframe\">\n",
       "  <thead>\n",
       "    <tr style=\"text-align: right;\">\n",
       "      <th></th>\n",
       "      <th>Sales Person</th>\n",
       "      <th>Geography</th>\n",
       "      <th>Product</th>\n",
       "      <th>Amount</th>\n",
       "      <th>Units</th>\n",
       "      <th>cost per unit</th>\n",
       "      <th>Cost</th>\n",
       "    </tr>\n",
       "  </thead>\n",
       "  <tbody>\n",
       "    <tr>\n",
       "      <th>0</th>\n",
       "      <td>Ram Mahesh</td>\n",
       "      <td>New Zealand</td>\n",
       "      <td>70% Dark Bites</td>\n",
       "      <td>1624.0</td>\n",
       "      <td>114</td>\n",
       "      <td>14</td>\n",
       "      <td>1596</td>\n",
       "    </tr>\n",
       "    <tr>\n",
       "      <th>1</th>\n",
       "      <td>Brien Boise</td>\n",
       "      <td>USA</td>\n",
       "      <td>Choco Coated Almonds</td>\n",
       "      <td>6706.0</td>\n",
       "      <td>459</td>\n",
       "      <td>9</td>\n",
       "      <td>4131</td>\n",
       "    </tr>\n",
       "    <tr>\n",
       "      <th>2</th>\n",
       "      <td>Husein Augar</td>\n",
       "      <td>USA</td>\n",
       "      <td>Almond Choco</td>\n",
       "      <td>959.0</td>\n",
       "      <td>147</td>\n",
       "      <td>12</td>\n",
       "      <td>1764</td>\n",
       "    </tr>\n",
       "    <tr>\n",
       "      <th>3</th>\n",
       "      <td>Carla Molina</td>\n",
       "      <td>Canada</td>\n",
       "      <td>Drinking Coco</td>\n",
       "      <td>9632.0</td>\n",
       "      <td>288</td>\n",
       "      <td>6</td>\n",
       "      <td>1728</td>\n",
       "    </tr>\n",
       "    <tr>\n",
       "      <th>4</th>\n",
       "      <td>Curtice Advani</td>\n",
       "      <td>UK</td>\n",
       "      <td>White Choc</td>\n",
       "      <td>2100.0</td>\n",
       "      <td>414</td>\n",
       "      <td>13</td>\n",
       "      <td>5382</td>\n",
       "    </tr>\n",
       "  </tbody>\n",
       "</table>\n",
       "</div>"
      ],
      "text/plain": [
       "     Sales Person    Geography               Product  Amount  Units  \\\n",
       "0      Ram Mahesh  New Zealand        70% Dark Bites  1624.0    114   \n",
       "1     Brien Boise          USA  Choco Coated Almonds  6706.0    459   \n",
       "2    Husein Augar          USA          Almond Choco   959.0    147   \n",
       "3    Carla Molina       Canada         Drinking Coco  9632.0    288   \n",
       "4  Curtice Advani           UK            White Choc  2100.0    414   \n",
       "\n",
       "   cost per unit  Cost  \n",
       "0             14  1596  \n",
       "1              9  4131  \n",
       "2             12  1764  \n",
       "3              6  1728  \n",
       "4             13  5382  "
      ]
     },
     "execution_count": 20,
     "metadata": {},
     "output_type": "execute_result"
    }
   ],
   "source": [
    "# Creating new column as column name Cost(Units x cost per unit) using numpy\n",
    "df['Cost'] = np.multiply(df['Units'], df['cost per unit'])\n",
    "df.head()\n",
    "# OR, we can also do\n",
    "# df['Cost'] = df['Units'] * df['cost per unit']"
   ]
  },
  {
   "cell_type": "code",
   "execution_count": 21,
   "id": "5ab94f96",
   "metadata": {
    "execution": {
     "iopub.execute_input": "2023-05-02T19:53:35.544170Z",
     "iopub.status.busy": "2023-05-02T19:53:35.543459Z",
     "iopub.status.idle": "2023-05-02T19:53:35.551615Z",
     "shell.execute_reply": "2023-05-02T19:53:35.550118Z"
    },
    "papermill": {
     "duration": 0.023437,
     "end_time": "2023-05-02T19:53:35.554018",
     "exception": false,
     "start_time": "2023-05-02T19:53:35.530581",
     "status": "completed"
    },
    "tags": []
   },
   "outputs": [
    {
     "data": {
      "text/plain": [
       "Sales Person      object\n",
       "Geography         object\n",
       "Product           object\n",
       "Amount           float64\n",
       "Units              int64\n",
       "cost per unit      int64\n",
       "Cost               int64\n",
       "dtype: object"
      ]
     },
     "execution_count": 21,
     "metadata": {},
     "output_type": "execute_result"
    }
   ],
   "source": [
    "df.dtypes"
   ]
  },
  {
   "cell_type": "code",
   "execution_count": 22,
   "id": "52eb50b9",
   "metadata": {
    "execution": {
     "iopub.execute_input": "2023-05-02T19:53:35.580514Z",
     "iopub.status.busy": "2023-05-02T19:53:35.579550Z",
     "iopub.status.idle": "2023-05-02T19:53:35.589145Z",
     "shell.execute_reply": "2023-05-02T19:53:35.588319Z"
    },
    "papermill": {
     "duration": 0.025152,
     "end_time": "2023-05-02T19:53:35.591152",
     "exception": false,
     "start_time": "2023-05-02T19:53:35.566000",
     "status": "completed"
    },
    "tags": []
   },
   "outputs": [
    {
     "data": {
      "text/plain": [
       "Product\n",
       "50% Dark Bites          43183.0\n",
       "70% Dark Bites          66500.0\n",
       "85% Dark Bars           35378.0\n",
       "99% Dark & Pure         44744.0\n",
       "After Nines             66283.0\n",
       "Almond Choco            33551.0\n",
       "Baker's Choco Chips     70273.0\n",
       "Caramel Stuffed Bars    72373.0\n",
       "Choco Coated Almonds    71967.0\n",
       "Drinking Coco           52150.0\n",
       "Eclairs                 63721.0\n",
       "Fruit & Nut Bars        56644.0\n",
       "Manuka Honey Choco      58009.0\n",
       "Milk Bars               47271.0\n",
       "Mint Chip Choco         62111.0\n",
       "Orange Choco            54712.0\n",
       "Organic Choco Syrup     69461.0\n",
       "Peanut Butter Cubes     69160.0\n",
       "Raspberry Choco         68971.0\n",
       "Smooth Sliky Salty      39263.0\n",
       "Spicy Special Slims     37772.0\n",
       "White Choc              57372.0\n",
       "Name: Amount, dtype: float64"
      ]
     },
     "execution_count": 22,
     "metadata": {},
     "output_type": "execute_result"
    }
   ],
   "source": [
    "# Using groupby on products and summing the amount to get total amounts of all the products\n",
    "total = df.groupby('Product')\n",
    "total.Amount.sum()"
   ]
  },
  {
   "cell_type": "code",
   "execution_count": 23,
   "id": "676c4069",
   "metadata": {
    "execution": {
     "iopub.execute_input": "2023-05-02T19:53:35.616836Z",
     "iopub.status.busy": "2023-05-02T19:53:35.615959Z",
     "iopub.status.idle": "2023-05-02T19:53:35.632640Z",
     "shell.execute_reply": "2023-05-02T19:53:35.631405Z"
    },
    "papermill": {
     "duration": 0.032367,
     "end_time": "2023-05-02T19:53:35.635096",
     "exception": false,
     "start_time": "2023-05-02T19:53:35.602729",
     "status": "completed"
    },
    "tags": []
   },
   "outputs": [
    {
     "data": {
      "text/html": [
       "<div>\n",
       "<style scoped>\n",
       "    .dataframe tbody tr th:only-of-type {\n",
       "        vertical-align: middle;\n",
       "    }\n",
       "\n",
       "    .dataframe tbody tr th {\n",
       "        vertical-align: top;\n",
       "    }\n",
       "\n",
       "    .dataframe thead th {\n",
       "        text-align: right;\n",
       "    }\n",
       "</style>\n",
       "<table border=\"1\" class=\"dataframe\">\n",
       "  <thead>\n",
       "    <tr style=\"text-align: right;\">\n",
       "      <th></th>\n",
       "      <th>Amount</th>\n",
       "      <th>Units</th>\n",
       "      <th>cost per unit</th>\n",
       "      <th>Cost</th>\n",
       "    </tr>\n",
       "    <tr>\n",
       "      <th>Product</th>\n",
       "      <th></th>\n",
       "      <th></th>\n",
       "      <th></th>\n",
       "      <th></th>\n",
       "    </tr>\n",
       "  </thead>\n",
       "  <tbody>\n",
       "    <tr>\n",
       "      <th>50% Dark Bites</th>\n",
       "      <td>43183.0</td>\n",
       "      <td>2022</td>\n",
       "      <td>132</td>\n",
       "      <td>24264</td>\n",
       "    </tr>\n",
       "    <tr>\n",
       "      <th>70% Dark Bites</th>\n",
       "      <td>66500.0</td>\n",
       "      <td>2802</td>\n",
       "      <td>224</td>\n",
       "      <td>39228</td>\n",
       "    </tr>\n",
       "    <tr>\n",
       "      <th>85% Dark Bars</th>\n",
       "      <td>35378.0</td>\n",
       "      <td>1044</td>\n",
       "      <td>45</td>\n",
       "      <td>5220</td>\n",
       "    </tr>\n",
       "    <tr>\n",
       "      <th>99% Dark &amp; Pure</th>\n",
       "      <td>44744.0</td>\n",
       "      <td>1956</td>\n",
       "      <td>112</td>\n",
       "      <td>15648</td>\n",
       "    </tr>\n",
       "    <tr>\n",
       "      <th>After Nines</th>\n",
       "      <td>66283.0</td>\n",
       "      <td>2052</td>\n",
       "      <td>160</td>\n",
       "      <td>20520</td>\n",
       "    </tr>\n",
       "    <tr>\n",
       "      <th>Almond Choco</th>\n",
       "      <td>33551.0</td>\n",
       "      <td>1566</td>\n",
       "      <td>132</td>\n",
       "      <td>18792</td>\n",
       "    </tr>\n",
       "    <tr>\n",
       "      <th>Baker's Choco Chips</th>\n",
       "      <td>70273.0</td>\n",
       "      <td>2142</td>\n",
       "      <td>102</td>\n",
       "      <td>12852</td>\n",
       "    </tr>\n",
       "    <tr>\n",
       "      <th>Caramel Stuffed Bars</th>\n",
       "      <td>72373.0</td>\n",
       "      <td>3207</td>\n",
       "      <td>150</td>\n",
       "      <td>32070</td>\n",
       "    </tr>\n",
       "    <tr>\n",
       "      <th>Choco Coated Almonds</th>\n",
       "      <td>71967.0</td>\n",
       "      <td>2301</td>\n",
       "      <td>108</td>\n",
       "      <td>20709</td>\n",
       "    </tr>\n",
       "    <tr>\n",
       "      <th>Drinking Coco</th>\n",
       "      <td>52150.0</td>\n",
       "      <td>1752</td>\n",
       "      <td>66</td>\n",
       "      <td>10512</td>\n",
       "    </tr>\n",
       "    <tr>\n",
       "      <th>Eclairs</th>\n",
       "      <td>63721.0</td>\n",
       "      <td>2331</td>\n",
       "      <td>51</td>\n",
       "      <td>6993</td>\n",
       "    </tr>\n",
       "    <tr>\n",
       "      <th>Fruit &amp; Nut Bars</th>\n",
       "      <td>56644.0</td>\n",
       "      <td>1812</td>\n",
       "      <td>90</td>\n",
       "      <td>10872</td>\n",
       "    </tr>\n",
       "    <tr>\n",
       "      <th>Manuka Honey Choco</th>\n",
       "      <td>58009.0</td>\n",
       "      <td>2976</td>\n",
       "      <td>119</td>\n",
       "      <td>20832</td>\n",
       "    </tr>\n",
       "    <tr>\n",
       "      <th>Milk Bars</th>\n",
       "      <td>47271.0</td>\n",
       "      <td>1881</td>\n",
       "      <td>117</td>\n",
       "      <td>16929</td>\n",
       "    </tr>\n",
       "    <tr>\n",
       "      <th>Mint Chip Choco</th>\n",
       "      <td>62111.0</td>\n",
       "      <td>2154</td>\n",
       "      <td>135</td>\n",
       "      <td>19386</td>\n",
       "    </tr>\n",
       "    <tr>\n",
       "      <th>Orange Choco</th>\n",
       "      <td>54712.0</td>\n",
       "      <td>2196</td>\n",
       "      <td>110</td>\n",
       "      <td>24156</td>\n",
       "    </tr>\n",
       "    <tr>\n",
       "      <th>Organic Choco Syrup</th>\n",
       "      <td>69461.0</td>\n",
       "      <td>2982</td>\n",
       "      <td>306</td>\n",
       "      <td>50694</td>\n",
       "    </tr>\n",
       "    <tr>\n",
       "      <th>Peanut Butter Cubes</th>\n",
       "      <td>69160.0</td>\n",
       "      <td>1854</td>\n",
       "      <td>156</td>\n",
       "      <td>22248</td>\n",
       "    </tr>\n",
       "    <tr>\n",
       "      <th>Raspberry Choco</th>\n",
       "      <td>68971.0</td>\n",
       "      <td>1533</td>\n",
       "      <td>156</td>\n",
       "      <td>18396</td>\n",
       "    </tr>\n",
       "    <tr>\n",
       "      <th>Smooth Sliky Salty</th>\n",
       "      <td>39263.0</td>\n",
       "      <td>1683</td>\n",
       "      <td>60</td>\n",
       "      <td>10098</td>\n",
       "    </tr>\n",
       "    <tr>\n",
       "      <th>Spicy Special Slims</th>\n",
       "      <td>37772.0</td>\n",
       "      <td>1308</td>\n",
       "      <td>90</td>\n",
       "      <td>11772</td>\n",
       "    </tr>\n",
       "    <tr>\n",
       "      <th>White Choc</th>\n",
       "      <td>57372.0</td>\n",
       "      <td>2106</td>\n",
       "      <td>221</td>\n",
       "      <td>27378</td>\n",
       "    </tr>\n",
       "  </tbody>\n",
       "</table>\n",
       "</div>"
      ],
      "text/plain": [
       "                       Amount  Units  cost per unit   Cost\n",
       "Product                                                   \n",
       "50% Dark Bites        43183.0   2022            132  24264\n",
       "70% Dark Bites        66500.0   2802            224  39228\n",
       "85% Dark Bars         35378.0   1044             45   5220\n",
       "99% Dark & Pure       44744.0   1956            112  15648\n",
       "After Nines           66283.0   2052            160  20520\n",
       "Almond Choco          33551.0   1566            132  18792\n",
       "Baker's Choco Chips   70273.0   2142            102  12852\n",
       "Caramel Stuffed Bars  72373.0   3207            150  32070\n",
       "Choco Coated Almonds  71967.0   2301            108  20709\n",
       "Drinking Coco         52150.0   1752             66  10512\n",
       "Eclairs               63721.0   2331             51   6993\n",
       "Fruit & Nut Bars      56644.0   1812             90  10872\n",
       "Manuka Honey Choco    58009.0   2976            119  20832\n",
       "Milk Bars             47271.0   1881            117  16929\n",
       "Mint Chip Choco       62111.0   2154            135  19386\n",
       "Orange Choco          54712.0   2196            110  24156\n",
       "Organic Choco Syrup   69461.0   2982            306  50694\n",
       "Peanut Butter Cubes   69160.0   1854            156  22248\n",
       "Raspberry Choco       68971.0   1533            156  18396\n",
       "Smooth Sliky Salty    39263.0   1683             60  10098\n",
       "Spicy Special Slims   37772.0   1308             90  11772\n",
       "White Choc            57372.0   2106            221  27378"
      ]
     },
     "execution_count": 23,
     "metadata": {},
     "output_type": "execute_result"
    }
   ],
   "source": [
    "total.sum()"
   ]
  },
  {
   "cell_type": "code",
   "execution_count": 24,
   "id": "740dfb58",
   "metadata": {
    "execution": {
     "iopub.execute_input": "2023-05-02T19:53:35.661927Z",
     "iopub.status.busy": "2023-05-02T19:53:35.661512Z",
     "iopub.status.idle": "2023-05-02T19:53:35.669332Z",
     "shell.execute_reply": "2023-05-02T19:53:35.668238Z"
    },
    "papermill": {
     "duration": 0.023991,
     "end_time": "2023-05-02T19:53:35.671779",
     "exception": false,
     "start_time": "2023-05-02T19:53:35.647788",
     "status": "completed"
    },
    "tags": []
   },
   "outputs": [
    {
     "data": {
      "text/plain": [
       "array(['New Zealand', 'USA', 'Canada', 'UK', 'Australia', 'India'],\n",
       "      dtype=object)"
      ]
     },
     "execution_count": 24,
     "metadata": {},
     "output_type": "execute_result"
    }
   ],
   "source": [
    "df['Geography'].unique()"
   ]
  },
  {
   "cell_type": "code",
   "execution_count": 25,
   "id": "55528f08",
   "metadata": {
    "execution": {
     "iopub.execute_input": "2023-05-02T19:53:35.699187Z",
     "iopub.status.busy": "2023-05-02T19:53:35.698394Z",
     "iopub.status.idle": "2023-05-02T19:53:35.718840Z",
     "shell.execute_reply": "2023-05-02T19:53:35.717653Z"
    },
    "papermill": {
     "duration": 0.037079,
     "end_time": "2023-05-02T19:53:35.721227",
     "exception": false,
     "start_time": "2023-05-02T19:53:35.684148",
     "status": "completed"
    },
    "tags": []
   },
   "outputs": [
    {
     "data": {
      "text/html": [
       "<div>\n",
       "<style scoped>\n",
       "    .dataframe tbody tr th:only-of-type {\n",
       "        vertical-align: middle;\n",
       "    }\n",
       "\n",
       "    .dataframe tbody tr th {\n",
       "        vertical-align: top;\n",
       "    }\n",
       "\n",
       "    .dataframe thead th {\n",
       "        text-align: right;\n",
       "    }\n",
       "</style>\n",
       "<table border=\"1\" class=\"dataframe\">\n",
       "  <thead>\n",
       "    <tr style=\"text-align: right;\">\n",
       "      <th></th>\n",
       "      <th></th>\n",
       "      <th></th>\n",
       "      <th>Amount</th>\n",
       "      <th>Units</th>\n",
       "      <th>cost per unit</th>\n",
       "      <th>Cost</th>\n",
       "    </tr>\n",
       "    <tr>\n",
       "      <th>Product</th>\n",
       "      <th>Sales Person</th>\n",
       "      <th>Geography</th>\n",
       "      <th></th>\n",
       "      <th></th>\n",
       "      <th></th>\n",
       "      <th></th>\n",
       "    </tr>\n",
       "  </thead>\n",
       "  <tbody>\n",
       "    <tr>\n",
       "      <th rowspan=\"11\" valign=\"top\">50% Dark Bites</th>\n",
       "      <th>Barr Faughny</th>\n",
       "      <th>New Zealand</th>\n",
       "      <td>1057.0</td>\n",
       "      <td>54</td>\n",
       "      <td>12</td>\n",
       "      <td>648</td>\n",
       "    </tr>\n",
       "    <tr>\n",
       "      <th>Carla Molina</th>\n",
       "      <th>UK</th>\n",
       "      <td>3976.0</td>\n",
       "      <td>72</td>\n",
       "      <td>12</td>\n",
       "      <td>864</td>\n",
       "    </tr>\n",
       "    <tr>\n",
       "      <th rowspan=\"4\" valign=\"top\">Ches Bonnell</th>\n",
       "      <th>Australia</th>\n",
       "      <td>1281.0</td>\n",
       "      <td>75</td>\n",
       "      <td>12</td>\n",
       "      <td>900</td>\n",
       "    </tr>\n",
       "    <tr>\n",
       "      <th>India</th>\n",
       "      <td>1932.0</td>\n",
       "      <td>369</td>\n",
       "      <td>12</td>\n",
       "      <td>4428</td>\n",
       "    </tr>\n",
       "    <tr>\n",
       "      <th>New Zealand</th>\n",
       "      <td>6608.0</td>\n",
       "      <td>225</td>\n",
       "      <td>12</td>\n",
       "      <td>2700</td>\n",
       "    </tr>\n",
       "    <tr>\n",
       "      <th>USA</th>\n",
       "      <td>4606.0</td>\n",
       "      <td>63</td>\n",
       "      <td>12</td>\n",
       "      <td>756</td>\n",
       "    </tr>\n",
       "    <tr>\n",
       "      <th>Gigi Bohling</th>\n",
       "      <th>New Zealand</th>\n",
       "      <td>4991.0</td>\n",
       "      <td>12</td>\n",
       "      <td>12</td>\n",
       "      <td>144</td>\n",
       "    </tr>\n",
       "    <tr>\n",
       "      <th rowspan=\"2\" valign=\"top\">Gunar Cockshoot</th>\n",
       "      <th>India</th>\n",
       "      <td>7259.0</td>\n",
       "      <td>276</td>\n",
       "      <td>12</td>\n",
       "      <td>3312</td>\n",
       "    </tr>\n",
       "    <tr>\n",
       "      <th>USA</th>\n",
       "      <td>2415.0</td>\n",
       "      <td>255</td>\n",
       "      <td>12</td>\n",
       "      <td>3060</td>\n",
       "    </tr>\n",
       "    <tr>\n",
       "      <th rowspan=\"2\" valign=\"top\">Oby Sorrel</th>\n",
       "      <th>Australia</th>\n",
       "      <td>5586.0</td>\n",
       "      <td>525</td>\n",
       "      <td>12</td>\n",
       "      <td>6300</td>\n",
       "    </tr>\n",
       "    <tr>\n",
       "      <th>USA</th>\n",
       "      <td>3472.0</td>\n",
       "      <td>96</td>\n",
       "      <td>12</td>\n",
       "      <td>1152</td>\n",
       "    </tr>\n",
       "    <tr>\n",
       "      <th rowspan=\"9\" valign=\"top\">70% Dark Bites</th>\n",
       "      <th rowspan=\"3\" valign=\"top\">Brien Boise</th>\n",
       "      <th>New Zealand</th>\n",
       "      <td>42.0</td>\n",
       "      <td>150</td>\n",
       "      <td>14</td>\n",
       "      <td>2100</td>\n",
       "    </tr>\n",
       "    <tr>\n",
       "      <th>UK</th>\n",
       "      <td>7021.0</td>\n",
       "      <td>183</td>\n",
       "      <td>14</td>\n",
       "      <td>2562</td>\n",
       "    </tr>\n",
       "    <tr>\n",
       "      <th>USA</th>\n",
       "      <td>3598.0</td>\n",
       "      <td>81</td>\n",
       "      <td>14</td>\n",
       "      <td>1134</td>\n",
       "    </tr>\n",
       "    <tr>\n",
       "      <th rowspan=\"2\" valign=\"top\">Carla Molina</th>\n",
       "      <th>Canada</th>\n",
       "      <td>6118.0</td>\n",
       "      <td>174</td>\n",
       "      <td>14</td>\n",
       "      <td>2436</td>\n",
       "    </tr>\n",
       "    <tr>\n",
       "      <th>New Zealand</th>\n",
       "      <td>1526.0</td>\n",
       "      <td>240</td>\n",
       "      <td>14</td>\n",
       "      <td>3360</td>\n",
       "    </tr>\n",
       "    <tr>\n",
       "      <th rowspan=\"3\" valign=\"top\">Ches Bonnell</th>\n",
       "      <th>Australia</th>\n",
       "      <td>10129.0</td>\n",
       "      <td>312</td>\n",
       "      <td>14</td>\n",
       "      <td>4368</td>\n",
       "    </tr>\n",
       "    <tr>\n",
       "      <th>New Zealand</th>\n",
       "      <td>6454.0</td>\n",
       "      <td>54</td>\n",
       "      <td>14</td>\n",
       "      <td>756</td>\n",
       "    </tr>\n",
       "    <tr>\n",
       "      <th>USA</th>\n",
       "      <td>6755.0</td>\n",
       "      <td>252</td>\n",
       "      <td>14</td>\n",
       "      <td>3528</td>\n",
       "    </tr>\n",
       "    <tr>\n",
       "      <th>Curtice Advani</th>\n",
       "      <th>India</th>\n",
       "      <td>3402.0</td>\n",
       "      <td>366</td>\n",
       "      <td>14</td>\n",
       "      <td>5124</td>\n",
       "    </tr>\n",
       "  </tbody>\n",
       "</table>\n",
       "</div>"
      ],
      "text/plain": [
       "                                             Amount  Units  cost per unit  \\\n",
       "Product        Sales Person    Geography                                    \n",
       "50% Dark Bites Barr Faughny    New Zealand   1057.0     54             12   \n",
       "               Carla Molina    UK            3976.0     72             12   \n",
       "               Ches Bonnell    Australia     1281.0     75             12   \n",
       "                               India         1932.0    369             12   \n",
       "                               New Zealand   6608.0    225             12   \n",
       "                               USA           4606.0     63             12   \n",
       "               Gigi Bohling    New Zealand   4991.0     12             12   \n",
       "               Gunar Cockshoot India         7259.0    276             12   \n",
       "                               USA           2415.0    255             12   \n",
       "               Oby Sorrel      Australia     5586.0    525             12   \n",
       "                               USA           3472.0     96             12   \n",
       "70% Dark Bites Brien Boise     New Zealand     42.0    150             14   \n",
       "                               UK            7021.0    183             14   \n",
       "                               USA           3598.0     81             14   \n",
       "               Carla Molina    Canada        6118.0    174             14   \n",
       "                               New Zealand   1526.0    240             14   \n",
       "               Ches Bonnell    Australia    10129.0    312             14   \n",
       "                               New Zealand   6454.0     54             14   \n",
       "                               USA           6755.0    252             14   \n",
       "               Curtice Advani  India         3402.0    366             14   \n",
       "\n",
       "                                            Cost  \n",
       "Product        Sales Person    Geography          \n",
       "50% Dark Bites Barr Faughny    New Zealand   648  \n",
       "               Carla Molina    UK            864  \n",
       "               Ches Bonnell    Australia     900  \n",
       "                               India        4428  \n",
       "                               New Zealand  2700  \n",
       "                               USA           756  \n",
       "               Gigi Bohling    New Zealand   144  \n",
       "               Gunar Cockshoot India        3312  \n",
       "                               USA          3060  \n",
       "               Oby Sorrel      Australia    6300  \n",
       "                               USA          1152  \n",
       "70% Dark Bites Brien Boise     New Zealand  2100  \n",
       "                               UK           2562  \n",
       "                               USA          1134  \n",
       "               Carla Molina    Canada       2436  \n",
       "                               New Zealand  3360  \n",
       "               Ches Bonnell    Australia    4368  \n",
       "                               New Zealand   756  \n",
       "                               USA          3528  \n",
       "               Curtice Advani  India        5124  "
      ]
     },
     "execution_count": 25,
     "metadata": {},
     "output_type": "execute_result"
    }
   ],
   "source": [
    "group = df.groupby(['Product','Sales Person','Geography'])\n",
    "group.sum().head(20)"
   ]
  },
  {
   "cell_type": "code",
   "execution_count": 26,
   "id": "962ff338",
   "metadata": {
    "execution": {
     "iopub.execute_input": "2023-05-02T19:53:35.749135Z",
     "iopub.status.busy": "2023-05-02T19:53:35.748739Z",
     "iopub.status.idle": "2023-05-02T19:53:35.765249Z",
     "shell.execute_reply": "2023-05-02T19:53:35.763938Z"
    },
    "papermill": {
     "duration": 0.033751,
     "end_time": "2023-05-02T19:53:35.767601",
     "exception": false,
     "start_time": "2023-05-02T19:53:35.733850",
     "status": "completed"
    },
    "tags": []
   },
   "outputs": [
    {
     "data": {
      "text/html": [
       "<div>\n",
       "<style scoped>\n",
       "    .dataframe tbody tr th:only-of-type {\n",
       "        vertical-align: middle;\n",
       "    }\n",
       "\n",
       "    .dataframe tbody tr th {\n",
       "        vertical-align: top;\n",
       "    }\n",
       "\n",
       "    .dataframe thead th {\n",
       "        text-align: right;\n",
       "    }\n",
       "</style>\n",
       "<table border=\"1\" class=\"dataframe\">\n",
       "  <thead>\n",
       "    <tr style=\"text-align: right;\">\n",
       "      <th></th>\n",
       "      <th>Sales Person</th>\n",
       "      <th>Geography</th>\n",
       "      <th>Product</th>\n",
       "      <th>Amount</th>\n",
       "      <th>Units</th>\n",
       "      <th>cost per unit</th>\n",
       "      <th>Cost</th>\n",
       "    </tr>\n",
       "  </thead>\n",
       "  <tbody>\n",
       "    <tr>\n",
       "      <th>204</th>\n",
       "      <td>Barr Faughny</td>\n",
       "      <td>New Zealand</td>\n",
       "      <td>50% Dark Bites</td>\n",
       "      <td>1057.0</td>\n",
       "      <td>54</td>\n",
       "      <td>12</td>\n",
       "      <td>648</td>\n",
       "    </tr>\n",
       "  </tbody>\n",
       "</table>\n",
       "</div>"
      ],
      "text/plain": [
       "     Sales Person    Geography         Product  Amount  Units  cost per unit  \\\n",
       "204  Barr Faughny  New Zealand  50% Dark Bites  1057.0     54             12   \n",
       "\n",
       "     Cost  \n",
       "204   648  "
      ]
     },
     "execution_count": 26,
     "metadata": {},
     "output_type": "execute_result"
    }
   ],
   "source": [
    "group.get_group(('50% Dark Bites','Barr Faughny','New Zealand'))"
   ]
  },
  {
   "cell_type": "code",
   "execution_count": 27,
   "id": "7bac7e7b",
   "metadata": {
    "execution": {
     "iopub.execute_input": "2023-05-02T19:53:35.795865Z",
     "iopub.status.busy": "2023-05-02T19:53:35.795428Z",
     "iopub.status.idle": "2023-05-02T19:53:36.384491Z",
     "shell.execute_reply": "2023-05-02T19:53:36.383388Z"
    },
    "papermill": {
     "duration": 0.606581,
     "end_time": "2023-05-02T19:53:36.387149",
     "exception": false,
     "start_time": "2023-05-02T19:53:35.780568",
     "status": "completed"
    },
    "tags": []
   },
   "outputs": [
    {
     "data": {
      "text/plain": [
       "array([[<AxesSubplot:title={'center':'Amount'}>,\n",
       "        <AxesSubplot:title={'center':'Units'}>],\n",
       "       [<AxesSubplot:title={'center':'cost per unit'}>,\n",
       "        <AxesSubplot:title={'center':'Cost'}>]], dtype=object)"
      ]
     },
     "execution_count": 27,
     "metadata": {},
     "output_type": "execute_result"
    },
    {
     "data": {
      "image/png": "[encoded data removed]",
      "text/plain": [
       "<Figure size 432x288 with 4 Axes>"
      ]
     },
     "metadata": {
      "needs_background": "light"
     },
     "output_type": "display_data"
    }
   ],
   "source": [
    "df.hist()"
   ]
  },
  {
   "cell_type": "code",
   "execution_count": 28,
   "id": "2553f5a3",
   "metadata": {
    "execution": {
     "iopub.execute_input": "2023-05-02T19:53:36.415819Z",
     "iopub.status.busy": "2023-05-02T19:53:36.415426Z",
     "iopub.status.idle": "2023-05-02T19:53:36.573768Z",
     "shell.execute_reply": "2023-05-02T19:53:36.572655Z"
    },
    "papermill": {
     "duration": 0.17531,
     "end_time": "2023-05-02T19:53:36.576313",
     "exception": false,
     "start_time": "2023-05-02T19:53:36.401003",
     "status": "completed"
    },
    "tags": []
   },
   "outputs": [
    {
     "data": {
      "text/plain": [
       "<AxesSubplot:xlabel='Units'>"
      ]
     },
     "execution_count": 28,
     "metadata": {},
     "output_type": "execute_result"
    },
    {
     "data": {
      "image/png": "[encoded data removed]",
      "text/plain": [
       "<Figure size 432x288 with 1 Axes>"
      ]
     },
     "metadata": {
      "needs_background": "light"
     },
     "output_type": "display_data"
    }
   ],
   "source": [
    "sns.boxplot(x='Units', data=df)\n"
   ]
  },
  {
   "cell_type": "code",
   "execution_count": 29,
   "id": "cc2a74f8",
   "metadata": {
    "execution": {
     "iopub.execute_input": "2023-05-02T19:53:36.606276Z",
     "iopub.status.busy": "2023-05-02T19:53:36.605130Z",
     "iopub.status.idle": "2023-05-02T19:53:36.773929Z",
     "shell.execute_reply": "2023-05-02T19:53:36.772981Z"
    },
    "papermill": {
     "duration": 0.185731,
     "end_time": "2023-05-02T19:53:36.776286",
     "exception": false,
     "start_time": "2023-05-02T19:53:36.590555",
     "status": "completed"
    },
    "tags": []
   },
   "outputs": [
    {
     "data": {
      "text/plain": [
       "<matplotlib.collections.PathCollection at 0x72027c4689d0>"
      ]
     },
     "execution_count": 29,
     "metadata": {},
     "output_type": "execute_result"
    },
    {
     "data": {
      "image/png": "[encoded data removed]",
      "text/plain": [
       "<Figure size 432x288 with 1 Axes>"
      ]
     },
     "metadata": {
      "needs_background": "light"
     },
     "output_type": "display_data"
    }
   ],
   "source": [
    "plt.scatter(df['Units'], df['cost per unit'])\n"
   ]
  },
  {
   "cell_type": "markdown",
   "id": "b6fefced",
   "metadata": {
    "papermill": {
     "duration": 0.013944,
     "end_time": "2023-05-02T19:53:36.804515",
     "exception": false,
     "start_time": "2023-05-02T19:53:36.790571",
     "status": "completed"
    },
    "tags": []
   },
   "source": [
    "**5. Analyzing the relationships between variables:**"
   ]
  },
  {
   "cell_type": "code",
   "execution_count": 30,
   "id": "38daa085",
   "metadata": {
    "execution": {
     "iopub.execute_input": "2023-05-02T19:53:36.834798Z",
     "iopub.status.busy": "2023-05-02T19:53:36.833634Z",
     "iopub.status.idle": "2023-05-02T19:53:36.846514Z",
     "shell.execute_reply": "2023-05-02T19:53:36.845286Z"
    },
    "papermill": {
     "duration": 0.030738,
     "end_time": "2023-05-02T19:53:36.849141",
     "exception": false,
     "start_time": "2023-05-02T19:53:36.818403",
     "status": "completed"
    },
    "tags": []
   },
   "outputs": [
    {
     "data": {
      "text/html": [
       "<div>\n",
       "<style scoped>\n",
       "    .dataframe tbody tr th:only-of-type {\n",
       "        vertical-align: middle;\n",
       "    }\n",
       "\n",
       "    .dataframe tbody tr th {\n",
       "        vertical-align: top;\n",
       "    }\n",
       "\n",
       "    .dataframe thead th {\n",
       "        text-align: right;\n",
       "    }\n",
       "</style>\n",
       "<table border=\"1\" class=\"dataframe\">\n",
       "  <thead>\n",
       "    <tr style=\"text-align: right;\">\n",
       "      <th></th>\n",
       "      <th>Amount</th>\n",
       "      <th>Units</th>\n",
       "      <th>cost per unit</th>\n",
       "      <th>Cost</th>\n",
       "    </tr>\n",
       "  </thead>\n",
       "  <tbody>\n",
       "    <tr>\n",
       "      <th>Amount</th>\n",
       "      <td>1.000000</td>\n",
       "      <td>0.026546</td>\n",
       "      <td>0.025820</td>\n",
       "      <td>0.018165</td>\n",
       "    </tr>\n",
       "    <tr>\n",
       "      <th>Units</th>\n",
       "      <td>0.026546</td>\n",
       "      <td>1.000000</td>\n",
       "      <td>0.057467</td>\n",
       "      <td>0.882103</td>\n",
       "    </tr>\n",
       "    <tr>\n",
       "      <th>cost per unit</th>\n",
       "      <td>0.025820</td>\n",
       "      <td>0.057467</td>\n",
       "      <td>1.000000</td>\n",
       "      <td>0.425895</td>\n",
       "    </tr>\n",
       "    <tr>\n",
       "      <th>Cost</th>\n",
       "      <td>0.018165</td>\n",
       "      <td>0.882103</td>\n",
       "      <td>0.425895</td>\n",
       "      <td>1.000000</td>\n",
       "    </tr>\n",
       "  </tbody>\n",
       "</table>\n",
       "</div>"
      ],
      "text/plain": [
       "                 Amount     Units  cost per unit      Cost\n",
       "Amount         1.000000  0.026546       0.025820  0.018165\n",
       "Units          0.026546  1.000000       0.057467  0.882103\n",
       "cost per unit  0.025820  0.057467       1.000000  0.425895\n",
       "Cost           0.018165  0.882103       0.425895  1.000000"
      ]
     },
     "execution_count": 30,
     "metadata": {},
     "output_type": "execute_result"
    }
   ],
   "source": [
    "# Correlation matrix:\n",
    "df.corr()"
   ]
  },
  {
   "cell_type": "code",
   "execution_count": 31,
   "id": "2900efd1",
   "metadata": {
    "execution": {
     "iopub.execute_input": "2023-05-02T19:53:36.878886Z",
     "iopub.status.busy": "2023-05-02T19:53:36.878446Z",
     "iopub.status.idle": "2023-05-02T19:53:37.085886Z",
     "shell.execute_reply": "2023-05-02T19:53:37.084621Z"
    },
    "papermill": {
     "duration": 0.22526,
     "end_time": "2023-05-02T19:53:37.088410",
     "exception": false,
     "start_time": "2023-05-02T19:53:36.863150",
     "status": "completed"
    },
    "tags": []
   },
   "outputs": [
    {
     "data": {
      "text/plain": [
       "<AxesSubplot:xlabel='Units', ylabel='cost per unit'>"
      ]
     },
     "execution_count": 31,
     "metadata": {},
     "output_type": "execute_result"
    },
    {
     "data": {
      "image/png": "[encoded data removed]",
      "text/plain": [
       "<Figure size 432x288 with 1 Axes>"
      ]
     },
     "metadata": {
      "needs_background": "light"
     },
     "output_type": "display_data"
    }
   ],
   "source": [
    "sns.scatterplot(x='Units', y='cost per unit', data=df)\n"
   ]
  },
  {
   "cell_type": "code",
   "execution_count": 32,
   "id": "78037eb0",
   "metadata": {
    "execution": {
     "iopub.execute_input": "2023-05-02T19:53:37.119226Z",
     "iopub.status.busy": "2023-05-02T19:53:37.118814Z",
     "iopub.status.idle": "2023-05-02T19:53:37.132759Z",
     "shell.execute_reply": "2023-05-02T19:53:37.131554Z"
    },
    "papermill": {
     "duration": 0.032062,
     "end_time": "2023-05-02T19:53:37.134988",
     "exception": false,
     "start_time": "2023-05-02T19:53:37.102926",
     "status": "completed"
    },
    "tags": []
   },
   "outputs": [
    {
     "data": {
      "text/html": [
       "<div>\n",
       "<style scoped>\n",
       "    .dataframe tbody tr th:only-of-type {\n",
       "        vertical-align: middle;\n",
       "    }\n",
       "\n",
       "    .dataframe tbody tr th {\n",
       "        vertical-align: top;\n",
       "    }\n",
       "\n",
       "    .dataframe thead th {\n",
       "        text-align: right;\n",
       "    }\n",
       "</style>\n",
       "<table border=\"1\" class=\"dataframe\">\n",
       "  <thead>\n",
       "    <tr style=\"text-align: right;\">\n",
       "      <th></th>\n",
       "      <th>Sales Person</th>\n",
       "      <th>Geography</th>\n",
       "      <th>Product</th>\n",
       "      <th>Amount</th>\n",
       "      <th>Units</th>\n",
       "      <th>cost per unit</th>\n",
       "      <th>Cost</th>\n",
       "    </tr>\n",
       "  </thead>\n",
       "  <tbody>\n",
       "    <tr>\n",
       "      <th>295</th>\n",
       "      <td>Gunar Cockshoot</td>\n",
       "      <td>New Zealand</td>\n",
       "      <td>Almond Choco</td>\n",
       "      <td>938.0</td>\n",
       "      <td>366</td>\n",
       "      <td>12</td>\n",
       "      <td>4392</td>\n",
       "    </tr>\n",
       "    <tr>\n",
       "      <th>296</th>\n",
       "      <td>Gunar Cockshoot</td>\n",
       "      <td>Australia</td>\n",
       "      <td>Baker's Choco Chips</td>\n",
       "      <td>8841.0</td>\n",
       "      <td>303</td>\n",
       "      <td>6</td>\n",
       "      <td>1818</td>\n",
       "    </tr>\n",
       "    <tr>\n",
       "      <th>297</th>\n",
       "      <td>Barr Faughny</td>\n",
       "      <td>UK</td>\n",
       "      <td>Peanut Butter Cubes</td>\n",
       "      <td>4018.0</td>\n",
       "      <td>126</td>\n",
       "      <td>12</td>\n",
       "      <td>1512</td>\n",
       "    </tr>\n",
       "    <tr>\n",
       "      <th>298</th>\n",
       "      <td>Carla Molina</td>\n",
       "      <td>New Zealand</td>\n",
       "      <td>Raspberry Choco</td>\n",
       "      <td>714.0</td>\n",
       "      <td>231</td>\n",
       "      <td>12</td>\n",
       "      <td>2772</td>\n",
       "    </tr>\n",
       "    <tr>\n",
       "      <th>299</th>\n",
       "      <td>Husein Augar</td>\n",
       "      <td>Australia</td>\n",
       "      <td>White Choc</td>\n",
       "      <td>3850.0</td>\n",
       "      <td>102</td>\n",
       "      <td>13</td>\n",
       "      <td>1326</td>\n",
       "    </tr>\n",
       "  </tbody>\n",
       "</table>\n",
       "</div>"
      ],
      "text/plain": [
       "        Sales Person    Geography              Product  Amount  Units  \\\n",
       "295  Gunar Cockshoot  New Zealand         Almond Choco   938.0    366   \n",
       "296  Gunar Cockshoot    Australia  Baker's Choco Chips  8841.0    303   \n",
       "297     Barr Faughny           UK  Peanut Butter Cubes  4018.0    126   \n",
       "298     Carla Molina  New Zealand      Raspberry Choco   714.0    231   \n",
       "299     Husein Augar    Australia           White Choc  3850.0    102   \n",
       "\n",
       "     cost per unit  Cost  \n",
       "295             12  4392  \n",
       "296              6  1818  \n",
       "297             12  1512  \n",
       "298             12  2772  \n",
       "299             13  1326  "
      ]
     },
     "execution_count": 32,
     "metadata": {},
     "output_type": "execute_result"
    }
   ],
   "source": [
    "df.tail()"
   ]
  }
 ],
 "metadata": {
  "kernelspec": {
   "display_name": "Python 3",
   "language": "python",
   "name": "python3"
  },
  "language_info": {
   "codemirror_mode": {
    "name": "ipython",
    "version": 3
   },
   "file_extension": ".py",
   "mimetype": "text/x-python",
   "name": "python",
   "nbconvert_exporter": "python",
   "pygments_lexer": "ipython3",
   "version": "3.7.12"
  },
  "papermill": {
   "default_parameters": {},
   "duration": 13.854096,
   "end_time": "2023-05-02T19:53:37.871782",
   "environment_variables": {},
   "exception": null,
   "input_path": "__notebook__.ipynb",
   "output_path": "__notebook__.ipynb",
   "parameters": {},
   "start_time": "2023-05-02T19:53:24.017686",
   "version": "2.3.4"
  }
 },
 "nbformat": 4,
 "nbformat_minor": 5
}

{
 "cells": [
  {
   "cell_type": "markdown",
   "id": "017d702d",
   "metadata": {
    "papermill": {
     "duration": 0.009001,
     "end_time": "2023-05-02T11:36:28.931674",
     "exception": false,
     "start_time": "2023-05-02T11:36:28.922673",
     "status": "completed"
    },
    "tags": []
   },
   "source": [
    "**Exploratory Data Analysis (EDA) is an important step in the data analysis process. It involves examining and visualizing the data to gain insights and identify patterns or anomalies. In Python, there are several libraries available for performing EDA, such as Pandas, NumPy, Matplotlib, and Seaborn. Here are some common steps to perform EDA in Python:**"
   ]
  },
  {
   "cell_type": "markdown",
   "id": "0ed7e5f3",
   "metadata": {
    "papermill": {
     "duration": 0.004336,
     "end_time": "2023-05-02T11:36:28.941653",
     "exception": false,
     "start_time": "2023-05-02T11:36:28.937317",
     "status": "completed"
    },
    "tags": []
   },
   "source": [
    "**1. Importing the necessary libraries and loading the dataset**"
   ]
  },
  {
   "cell_type": "code",
   "execution_count": 1,
   "id": "2f8353ba",
   "metadata": {
    "execution": {
     "iopub.execute_input": "2023-05-02T11:36:28.954229Z",
     "iopub.status.busy": "2023-05-02T11:36:28.953646Z",
     "iopub.status.idle": "2023-05-02T11:36:30.048223Z",
     "shell.execute_reply": "2023-05-02T11:36:30.046877Z"
    },
    "papermill": {
     "duration": 1.104327,
     "end_time": "2023-05-02T11:36:30.051493",
     "exception": false,
     "start_time": "2023-05-02T11:36:28.947166",
     "status": "completed"
    },
    "tags": []
   },
   "outputs": [],
   "source": [
    "import pandas as pd\n",
    "import numpy as np\n",
    "import matplotlib.pyplot as plt\n",
    "import seaborn as sns"
   ]
  },
  {
   "cell_type": "code",
   "execution_count": 2,
   "id": "11afedc2",
   "metadata": {
    "execution": {
     "iopub.execute_input": "2023-05-02T11:36:30.064160Z",
     "iopub.status.busy": "2023-05-02T11:36:30.062879Z",
     "iopub.status.idle": "2023-05-02T11:36:30.087335Z",
     "shell.execute_reply": "2023-05-02T11:36:30.086383Z"
    },
    "papermill": {
     "duration": 0.033366,
     "end_time": "2023-05-02T11:36:30.089802",
     "exception": false,
     "start_time": "2023-05-02T11:36:30.056436",
     "status": "completed"
    },
    "tags": []
   },
   "outputs": [],
   "source": [
    "df=pd.read_csv('/kaggle/input/choclate-sales-project/choclate protfolio project - 11.csv')"
   ]
  },
  {
   "cell_type": "markdown",
   "id": "05a8d0f0",
   "metadata": {
    "papermill": {
     "duration": 0.004298,
     "end_time": "2023-05-02T11:36:30.098787",
     "exception": false,
     "start_time": "2023-05-02T11:36:30.094489",
     "status": "completed"
    },
    "tags": []
   },
   "source": [
    "**2. Understanding the dataset:**"
   ]
  },
  {
   "cell_type": "code",
   "execution_count": 3,
   "id": "5aa49e49",
   "metadata": {
    "execution": {
     "iopub.execute_input": "2023-05-02T11:36:30.110495Z",
     "iopub.status.busy": "2023-05-02T11:36:30.109322Z",
     "iopub.status.idle": "2023-05-02T11:36:30.137765Z",
     "shell.execute_reply": "2023-05-02T11:36:30.136504Z"
    },
    "papermill": {
     "duration": 0.037046,
     "end_time": "2023-05-02T11:36:30.140483",
     "exception": false,
     "start_time": "2023-05-02T11:36:30.103437",
     "status": "completed"
    },
    "tags": []
   },
   "outputs": [
    {
     "name": "stdout",
     "output_type": "stream",
     "text": [
      "<class 'pandas.core.frame.DataFrame'>\n",
      "RangeIndex: 300 entries, 0 to 299\n",
      "Data columns (total 9 columns):\n",
      " #   Column         Non-Null Count  Dtype \n",
      "---  ------         --------------  ----- \n",
      " 0   Sales Person   300 non-null    object\n",
      " 1   Geography      300 non-null    object\n",
      " 2   Product        300 non-null    object\n",
      " 3   Amount         300 non-null    object\n",
      " 4   Units          300 non-null    int64 \n",
      " 5   cost per unit  300 non-null    int64 \n",
      " 6   Cost           300 non-null    object\n",
      " 7   Profit         300 non-null    object\n",
      " 8   profit %       300 non-null    object\n",
      "dtypes: int64(2), object(7)\n",
      "memory usage: 21.2+ KB\n"
     ]
    }
   ],
   "source": [
    "# Checking basic information:\n",
    "df.info()"
   ]
  },
  {
   "cell_type": "code",
   "execution_count": 4,
   "id": "edd58ec9",
   "metadata": {
    "execution": {
     "iopub.execute_input": "2023-05-02T11:36:30.151679Z",
     "iopub.status.busy": "2023-05-02T11:36:30.151239Z",
     "iopub.status.idle": "2023-05-02T11:36:30.172029Z",
     "shell.execute_reply": "2023-05-02T11:36:30.170629Z"
    },
    "papermill": {
     "duration": 0.029314,
     "end_time": "2023-05-02T11:36:30.174567",
     "exception": false,
     "start_time": "2023-05-02T11:36:30.145253",
     "status": "completed"
    },
    "tags": []
   },
   "outputs": [
    {
     "data": {
      "text/html": [
       "<div>\n",
       "<style scoped>\n",
       "    .dataframe tbody tr th:only-of-type {\n",
       "        vertical-align: middle;\n",
       "    }\n",
       "\n",
       "    .dataframe tbody tr th {\n",
       "        vertical-align: top;\n",
       "    }\n",
       "\n",
       "    .dataframe thead th {\n",
       "        text-align: right;\n",
       "    }\n",
       "</style>\n",
       "<table border=\"1\" class=\"dataframe\">\n",
       "  <thead>\n",
       "    <tr style=\"text-align: right;\">\n",
       "      <th></th>\n",
       "      <th>Sales Person</th>\n",
       "      <th>Geography</th>\n",
       "      <th>Product</th>\n",
       "      <th>Amount</th>\n",
       "      <th>Units</th>\n",
       "      <th>cost per unit</th>\n",
       "      <th>Cost</th>\n",
       "      <th>Profit</th>\n",
       "      <th>profit %</th>\n",
       "    </tr>\n",
       "  </thead>\n",
       "  <tbody>\n",
       "    <tr>\n",
       "      <th>0</th>\n",
       "      <td>Ram Mahesh</td>\n",
       "      <td>New Zealand</td>\n",
       "      <td>70% Dark Bites</td>\n",
       "      <td>$1,624</td>\n",
       "      <td>114</td>\n",
       "      <td>14</td>\n",
       "      <td>1,652</td>\n",
       "      <td>($28)</td>\n",
       "      <td>-2%</td>\n",
       "    </tr>\n",
       "    <tr>\n",
       "      <th>1</th>\n",
       "      <td>Brien Boise</td>\n",
       "      <td>USA</td>\n",
       "      <td>Choco Coated Almonds</td>\n",
       "      <td>$6,706</td>\n",
       "      <td>459</td>\n",
       "      <td>9</td>\n",
       "      <td>3,970</td>\n",
       "      <td>$2,736</td>\n",
       "      <td>41%</td>\n",
       "    </tr>\n",
       "    <tr>\n",
       "      <th>2</th>\n",
       "      <td>Husein Augar</td>\n",
       "      <td>USA</td>\n",
       "      <td>Almond Choco</td>\n",
       "      <td>$959</td>\n",
       "      <td>147</td>\n",
       "      <td>12</td>\n",
       "      <td>1,746</td>\n",
       "      <td>($787)</td>\n",
       "      <td>-82%</td>\n",
       "    </tr>\n",
       "    <tr>\n",
       "      <th>3</th>\n",
       "      <td>Carla Molina</td>\n",
       "      <td>Canada</td>\n",
       "      <td>Drinking Coco</td>\n",
       "      <td>$9,632</td>\n",
       "      <td>288</td>\n",
       "      <td>6</td>\n",
       "      <td>1,863</td>\n",
       "      <td>$7,769</td>\n",
       "      <td>81%</td>\n",
       "    </tr>\n",
       "    <tr>\n",
       "      <th>4</th>\n",
       "      <td>Curtice Advani</td>\n",
       "      <td>UK</td>\n",
       "      <td>White Choc</td>\n",
       "      <td>$2,100</td>\n",
       "      <td>414</td>\n",
       "      <td>13</td>\n",
       "      <td>5,444</td>\n",
       "      <td>($3,344)</td>\n",
       "      <td>-159%</td>\n",
       "    </tr>\n",
       "  </tbody>\n",
       "</table>\n",
       "</div>"
      ],
      "text/plain": [
       "     Sales Person    Geography               Product   Amount  Units  \\\n",
       "0      Ram Mahesh  New Zealand        70% Dark Bites  $1,624     114   \n",
       "1     Brien Boise          USA  Choco Coated Almonds  $6,706     459   \n",
       "2    Husein Augar          USA          Almond Choco    $959     147   \n",
       "3    Carla Molina       Canada         Drinking Coco  $9,632     288   \n",
       "4  Curtice Advani           UK            White Choc  $2,100     414   \n",
       "\n",
       "   cost per unit   Cost    Profit profit %  \n",
       "0             14  1,652     ($28)      -2%  \n",
       "1              9  3,970   $2,736       41%  \n",
       "2             12  1,746    ($787)     -82%  \n",
       "3              6  1,863   $7,769       81%  \n",
       "4             13  5,444  ($3,344)    -159%  "
      ]
     },
     "execution_count": 4,
     "metadata": {},
     "output_type": "execute_result"
    }
   ],
   "source": [
    "# Checking the first few rows:\n",
    "df.head()"
   ]
  },
  {
   "cell_type": "markdown",
   "id": "162184f8",
   "metadata": {
    "papermill": {
     "duration": 0.00473,
     "end_time": "2023-05-02T11:36:30.184446",
     "exception": false,
     "start_time": "2023-05-02T11:36:30.179716",
     "status": "completed"
    },
    "tags": []
   },
   "source": [
    "**3. Cleaning the data:**"
   ]
  },
  {
   "cell_type": "code",
   "execution_count": 5,
   "id": "d517defe",
   "metadata": {
    "execution": {
     "iopub.execute_input": "2023-05-02T11:36:30.196371Z",
     "iopub.status.busy": "2023-05-02T11:36:30.195919Z",
     "iopub.status.idle": "2023-05-02T11:36:30.205676Z",
     "shell.execute_reply": "2023-05-02T11:36:30.204298Z"
    },
    "papermill": {
     "duration": 0.018774,
     "end_time": "2023-05-02T11:36:30.208166",
     "exception": false,
     "start_time": "2023-05-02T11:36:30.189392",
     "status": "completed"
    },
    "tags": []
   },
   "outputs": [
    {
     "data": {
      "text/plain": [
       "Sales Person     0\n",
       "Geography        0\n",
       "Product          0\n",
       "Amount           0\n",
       "Units            0\n",
       "cost per unit    0\n",
       "Cost             0\n",
       "Profit           0\n",
       "profit %         0\n",
       "dtype: int64"
      ]
     },
     "execution_count": 5,
     "metadata": {},
     "output_type": "execute_result"
    }
   ],
   "source": [
    "# Checking for missing values:\n",
    "df.isnull().sum()"
   ]
  },
  {
   "cell_type": "markdown",
   "id": "896ff9d2",
   "metadata": {
    "papermill": {
     "duration": 0.00486,
     "end_time": "2023-05-02T11:36:30.218749",
     "exception": false,
     "start_time": "2023-05-02T11:36:30.213889",
     "status": "completed"
    },
    "tags": []
   },
   "source": [
    "**4. Exploring the data:**"
   ]
  },
  {
   "cell_type": "code",
   "execution_count": 6,
   "id": "4977387d",
   "metadata": {
    "execution": {
     "iopub.execute_input": "2023-05-02T11:36:30.231642Z",
     "iopub.status.busy": "2023-05-02T11:36:30.230994Z",
     "iopub.status.idle": "2023-05-02T11:36:30.250426Z",
     "shell.execute_reply": "2023-05-02T11:36:30.249171Z"
    },
    "papermill": {
     "duration": 0.028958,
     "end_time": "2023-05-02T11:36:30.253193",
     "exception": false,
     "start_time": "2023-05-02T11:36:30.224235",
     "status": "completed"
    },
    "tags": []
   },
   "outputs": [
    {
     "data": {
      "text/html": [
       "<div>\n",
       "<style scoped>\n",
       "    .dataframe tbody tr th:only-of-type {\n",
       "        vertical-align: middle;\n",
       "    }\n",
       "\n",
       "    .dataframe tbody tr th {\n",
       "        vertical-align: top;\n",
       "    }\n",
       "\n",
       "    .dataframe thead th {\n",
       "        text-align: right;\n",
       "    }\n",
       "</style>\n",
       "<table border=\"1\" class=\"dataframe\">\n",
       "  <thead>\n",
       "    <tr style=\"text-align: right;\">\n",
       "      <th></th>\n",
       "      <th>Units</th>\n",
       "      <th>cost per unit</th>\n",
       "    </tr>\n",
       "  </thead>\n",
       "  <tbody>\n",
       "    <tr>\n",
       "      <th>count</th>\n",
       "      <td>300.000000</td>\n",
       "      <td>300.000000</td>\n",
       "    </tr>\n",
       "    <tr>\n",
       "      <th>mean</th>\n",
       "      <td>152.200000</td>\n",
       "      <td>9.473333</td>\n",
       "    </tr>\n",
       "    <tr>\n",
       "      <th>std</th>\n",
       "      <td>118.099499</td>\n",
       "      <td>3.457717</td>\n",
       "    </tr>\n",
       "    <tr>\n",
       "      <th>min</th>\n",
       "      <td>0.000000</td>\n",
       "      <td>3.000000</td>\n",
       "    </tr>\n",
       "    <tr>\n",
       "      <th>25%</th>\n",
       "      <td>54.000000</td>\n",
       "      <td>6.000000</td>\n",
       "    </tr>\n",
       "    <tr>\n",
       "      <th>50%</th>\n",
       "      <td>124.500000</td>\n",
       "      <td>9.000000</td>\n",
       "    </tr>\n",
       "    <tr>\n",
       "      <th>75%</th>\n",
       "      <td>220.500000</td>\n",
       "      <td>12.000000</td>\n",
       "    </tr>\n",
       "    <tr>\n",
       "      <th>max</th>\n",
       "      <td>525.000000</td>\n",
       "      <td>17.000000</td>\n",
       "    </tr>\n",
       "  </tbody>\n",
       "</table>\n",
       "</div>"
      ],
      "text/plain": [
       "            Units  cost per unit\n",
       "count  300.000000     300.000000\n",
       "mean   152.200000       9.473333\n",
       "std    118.099499       3.457717\n",
       "min      0.000000       3.000000\n",
       "25%     54.000000       6.000000\n",
       "50%    124.500000       9.000000\n",
       "75%    220.500000      12.000000\n",
       "max    525.000000      17.000000"
      ]
     },
     "execution_count": 6,
     "metadata": {},
     "output_type": "execute_result"
    }
   ],
   "source": [
    "#  Descriptive statistics:\n",
    "df.describe()"
   ]
  },
  {
   "cell_type": "code",
   "execution_count": 7,
   "id": "0ff2800f",
   "metadata": {
    "execution": {
     "iopub.execute_input": "2023-05-02T11:36:30.267638Z",
     "iopub.status.busy": "2023-05-02T11:36:30.267206Z",
     "iopub.status.idle": "2023-05-02T11:36:30.614713Z",
     "shell.execute_reply": "2023-05-02T11:36:30.613468Z"
    },
    "papermill": {
     "duration": 0.356862,
     "end_time": "2023-05-02T11:36:30.617215",
     "exception": false,
     "start_time": "2023-05-02T11:36:30.260353",
     "status": "completed"
    },
    "tags": []
   },
   "outputs": [
    {
     "data": {
      "text/plain": [
       "array([[<AxesSubplot:title={'center':'Units'}>,\n",
       "        <AxesSubplot:title={'center':'cost per unit'}>]], dtype=object)"
      ]
     },
     "execution_count": 7,
     "metadata": {},
     "output_type": "execute_result"
    },
    {
     "data": {
      "image/png": "[encoded data removed]",
      "text/plain": [
       "<Figure size 432x288 with 2 Axes>"
      ]
     },
     "metadata": {
      "needs_background": "light"
     },
     "output_type": "display_data"
    }
   ],
   "source": [
    "df.hist()"
   ]
  },
  {
   "cell_type": "code",
   "execution_count": 8,
   "id": "4967d8c1",
   "metadata": {
    "execution": {
     "iopub.execute_input": "2023-05-02T11:36:30.630445Z",
     "iopub.status.busy": "2023-05-02T11:36:30.630020Z",
     "iopub.status.idle": "2023-05-02T11:36:30.749549Z",
     "shell.execute_reply": "2023-05-02T11:36:30.748041Z"
    },
    "papermill": {
     "duration": 0.133272,
     "end_time": "2023-05-02T11:36:30.756168",
     "exception": false,
     "start_time": "2023-05-02T11:36:30.622896",
     "status": "completed"
    },
    "tags": []
   },
   "outputs": [
    {
     "data": {
      "text/plain": [
       "<AxesSubplot:xlabel='Units'>"
      ]
     },
     "execution_count": 8,
     "metadata": {},
     "output_type": "execute_result"
    },
    {
     "data": {
      "image/png": "[encoded data removed]",
      "text/plain": [
       "<Figure size 432x288 with 1 Axes>"
      ]
     },
     "metadata": {
      "needs_background": "light"
     },
     "output_type": "display_data"
    }
   ],
   "source": [
    "sns.boxplot(x='Units', data=df)\n"
   ]
  },
  {
   "cell_type": "code",
   "execution_count": 9,
   "id": "c03e5a34",
   "metadata": {
    "execution": {
     "iopub.execute_input": "2023-05-02T11:36:30.788556Z",
     "iopub.status.busy": "2023-05-02T11:36:30.787288Z",
     "iopub.status.idle": "2023-05-02T11:36:31.017612Z",
     "shell.execute_reply": "2023-05-02T11:36:31.016390Z"
    },
    "papermill": {
     "duration": 0.249268,
     "end_time": "2023-05-02T11:36:31.020275",
     "exception": false,
     "start_time": "2023-05-02T11:36:30.771007",
     "status": "completed"
    },
    "tags": []
   },
   "outputs": [
    {
     "data": {
      "text/plain": [
       "<matplotlib.collections.PathCollection at 0x793ec050f210>"
      ]
     },
     "execution_count": 9,
     "metadata": {},
     "output_type": "execute_result"
    },
    {
     "data": {
      "image/png": "[encoded data removed]",
      "text/plain": [
       "<Figure size 432x288 with 1 Axes>"
      ]
     },
     "metadata": {
      "needs_background": "light"
     },
     "output_type": "display_data"
    }
   ],
   "source": [
    "plt.scatter(df['Units'], df['cost per unit'])\n"
   ]
  },
  {
   "cell_type": "markdown",
   "id": "539f8b5a",
   "metadata": {
    "papermill": {
     "duration": 0.005905,
     "end_time": "2023-05-02T11:36:31.032580",
     "exception": false,
     "start_time": "2023-05-02T11:36:31.026675",
     "status": "completed"
    },
    "tags": []
   },
   "source": [
    "**5. Analyzing the relationships between variables:**"
   ]
  },
  {
   "cell_type": "code",
   "execution_count": 10,
   "id": "0d26a150",
   "metadata": {
    "execution": {
     "iopub.execute_input": "2023-05-02T11:36:31.046519Z",
     "iopub.status.busy": "2023-05-02T11:36:31.046078Z",
     "iopub.status.idle": "2023-05-02T11:36:31.059426Z",
     "shell.execute_reply": "2023-05-02T11:36:31.058075Z"
    },
    "papermill": {
     "duration": 0.023224,
     "end_time": "2023-05-02T11:36:31.061893",
     "exception": false,
     "start_time": "2023-05-02T11:36:31.038669",
     "status": "completed"
    },
    "tags": []
   },
   "outputs": [
    {
     "data": {
      "text/html": [
       "<div>\n",
       "<style scoped>\n",
       "    .dataframe tbody tr th:only-of-type {\n",
       "        vertical-align: middle;\n",
       "    }\n",
       "\n",
       "    .dataframe tbody tr th {\n",
       "        vertical-align: top;\n",
       "    }\n",
       "\n",
       "    .dataframe thead th {\n",
       "        text-align: right;\n",
       "    }\n",
       "</style>\n",
       "<table border=\"1\" class=\"dataframe\">\n",
       "  <thead>\n",
       "    <tr style=\"text-align: right;\">\n",
       "      <th></th>\n",
       "      <th>Units</th>\n",
       "      <th>cost per unit</th>\n",
       "    </tr>\n",
       "  </thead>\n",
       "  <tbody>\n",
       "    <tr>\n",
       "      <th>Units</th>\n",
       "      <td>1.000000</td>\n",
       "      <td>0.057467</td>\n",
       "    </tr>\n",
       "    <tr>\n",
       "      <th>cost per unit</th>\n",
       "      <td>0.057467</td>\n",
       "      <td>1.000000</td>\n",
       "    </tr>\n",
       "  </tbody>\n",
       "</table>\n",
       "</div>"
      ],
      "text/plain": [
       "                  Units  cost per unit\n",
       "Units          1.000000       0.057467\n",
       "cost per unit  0.057467       1.000000"
      ]
     },
     "execution_count": 10,
     "metadata": {},
     "output_type": "execute_result"
    }
   ],
   "source": [
    "# Correlation matrix:\n",
    "df.corr()"
   ]
  },
  {
   "cell_type": "code",
   "execution_count": 11,
   "id": "1cb8cb15",
   "metadata": {
    "execution": {
     "iopub.execute_input": "2023-05-02T11:36:31.076750Z",
     "iopub.status.busy": "2023-05-02T11:36:31.076357Z",
     "iopub.status.idle": "2023-05-02T11:36:31.318990Z",
     "shell.execute_reply": "2023-05-02T11:36:31.317783Z"
    },
    "papermill": {
     "duration": 0.253442,
     "end_time": "2023-05-02T11:36:31.321917",
     "exception": false,
     "start_time": "2023-05-02T11:36:31.068475",
     "status": "completed"
    },
    "tags": []
   },
   "outputs": [
    {
     "data": {
      "text/plain": [
       "<AxesSubplot:xlabel='Units', ylabel='cost per unit'>"
      ]
     },
     "execution_count": 11,
     "metadata": {},
     "output_type": "execute_result"
    },
    {
     "data": {
      "image/png": "[encoded data removed]",
      "text/plain": [
       "<Figure size 432x288 with 1 Axes>"
      ]
     },
     "metadata": {
      "needs_background": "light"
     },
     "output_type": "display_data"
    }
   ],
   "source": [
    "sns.scatterplot(x='Units', y='cost per unit', data=df)\n"
   ]
  },
  {
   "cell_type": "code",
   "execution_count": 12,
   "id": "eb611a4b",
   "metadata": {
    "execution": {
     "iopub.execute_input": "2023-05-02T11:36:31.337729Z",
     "iopub.status.busy": "2023-05-02T11:36:31.337295Z",
     "iopub.status.idle": "2023-05-02T11:36:31.353440Z",
     "shell.execute_reply": "2023-05-02T11:36:31.352109Z"
    },
    "papermill": {
     "duration": 0.026934,
     "end_time": "2023-05-02T11:36:31.356060",
     "exception": false,
     "start_time": "2023-05-02T11:36:31.329126",
     "status": "completed"
    },
    "tags": []
   },
   "outputs": [
    {
     "data": {
      "text/html": [
       "<div>\n",
       "<style scoped>\n",
       "    .dataframe tbody tr th:only-of-type {\n",
       "        vertical-align: middle;\n",
       "    }\n",
       "\n",
       "    .dataframe tbody tr th {\n",
       "        vertical-align: top;\n",
       "    }\n",
       "\n",
       "    .dataframe thead th {\n",
       "        text-align: right;\n",
       "    }\n",
       "</style>\n",
       "<table border=\"1\" class=\"dataframe\">\n",
       "  <thead>\n",
       "    <tr style=\"text-align: right;\">\n",
       "      <th></th>\n",
       "      <th>Sales Person</th>\n",
       "      <th>Geography</th>\n",
       "      <th>Product</th>\n",
       "      <th>Amount</th>\n",
       "      <th>Units</th>\n",
       "      <th>cost per unit</th>\n",
       "      <th>Cost</th>\n",
       "      <th>Profit</th>\n",
       "      <th>profit %</th>\n",
       "    </tr>\n",
       "  </thead>\n",
       "  <tbody>\n",
       "    <tr>\n",
       "      <th>295</th>\n",
       "      <td>Gunar Cockshoot</td>\n",
       "      <td>New Zealand</td>\n",
       "      <td>Almond Choco</td>\n",
       "      <td>$938</td>\n",
       "      <td>366</td>\n",
       "      <td>12</td>\n",
       "      <td>4,348</td>\n",
       "      <td>($3,410)</td>\n",
       "      <td>-364%</td>\n",
       "    </tr>\n",
       "    <tr>\n",
       "      <th>296</th>\n",
       "      <td>Gunar Cockshoot</td>\n",
       "      <td>Australia</td>\n",
       "      <td>Baker's Choco Chips</td>\n",
       "      <td>$8,841</td>\n",
       "      <td>303</td>\n",
       "      <td>6</td>\n",
       "      <td>1,697</td>\n",
       "      <td>$7,144</td>\n",
       "      <td>81%</td>\n",
       "    </tr>\n",
       "    <tr>\n",
       "      <th>297</th>\n",
       "      <td>Barr Faughny</td>\n",
       "      <td>UK</td>\n",
       "      <td>Peanut Butter Cubes</td>\n",
       "      <td>$4,018</td>\n",
       "      <td>126</td>\n",
       "      <td>12</td>\n",
       "      <td>1,559</td>\n",
       "      <td>$2,459</td>\n",
       "      <td>61%</td>\n",
       "    </tr>\n",
       "    <tr>\n",
       "      <th>298</th>\n",
       "      <td>Carla Molina</td>\n",
       "      <td>New Zealand</td>\n",
       "      <td>Raspberry Choco</td>\n",
       "      <td>$714</td>\n",
       "      <td>231</td>\n",
       "      <td>12</td>\n",
       "      <td>2,710</td>\n",
       "      <td>($1,996)</td>\n",
       "      <td>-280%</td>\n",
       "    </tr>\n",
       "    <tr>\n",
       "      <th>299</th>\n",
       "      <td>Husein Augar</td>\n",
       "      <td>Australia</td>\n",
       "      <td>White Choc</td>\n",
       "      <td>$3,850</td>\n",
       "      <td>102</td>\n",
       "      <td>13</td>\n",
       "      <td>1,341</td>\n",
       "      <td>$2,509</td>\n",
       "      <td>65%</td>\n",
       "    </tr>\n",
       "  </tbody>\n",
       "</table>\n",
       "</div>"
      ],
      "text/plain": [
       "        Sales Person    Geography              Product   Amount  Units  \\\n",
       "295  Gunar Cockshoot  New Zealand         Almond Choco    $938     366   \n",
       "296  Gunar Cockshoot    Australia  Baker's Choco Chips  $8,841     303   \n",
       "297     Barr Faughny           UK  Peanut Butter Cubes  $4,018     126   \n",
       "298     Carla Molina  New Zealand      Raspberry Choco    $714     231   \n",
       "299     Husein Augar    Australia           White Choc  $3,850     102   \n",
       "\n",
       "     cost per unit   Cost    Profit profit %  \n",
       "295             12  4,348  ($3,410)    -364%  \n",
       "296              6  1,697   $7,144       81%  \n",
       "297             12  1,559   $2,459       61%  \n",
       "298             12  2,710  ($1,996)    -280%  \n",
       "299             13  1,341   $2,509       65%  "
      ]
     },
     "execution_count": 12,
     "metadata": {},
     "output_type": "execute_result"
    }
   ],
   "source": [
    "df.tail()"
   ]
  },
  {
   "cell_type": "code",
   "execution_count": null,
   "id": "8193c4d9",
   "metadata": {
    "papermill": {
     "duration": 0.006841,
     "end_time": "2023-05-02T11:36:31.370537",
     "exception": false,
     "start_time": "2023-05-02T11:36:31.363696",
     "status": "completed"
    },
    "tags": []
   },
   "outputs": [],
   "source": []
  }
 ],
 "metadata": {
  "kernelspec": {
   "display_name": "Python 3",
   "language": "python",
   "name": "python3"
  },
  "language_info": {
   "codemirror_mode": {
    "name": "ipython",
    "version": 3
   },
   "file_extension": ".py",
   "mimetype": "text/x-python",
   "name": "python",
   "nbconvert_exporter": "python",
   "pygments_lexer": "ipython3",
   "version": "3.7.12"
  },
  "papermill": {
   "default_parameters": {},
   "duration": 12.990044,
   "end_time": "2023-05-02T11:36:32.099027",
   "environment_variables": {},
   "exception": null,
   "input_path": "__notebook__.ipynb",
   "output_path": "__notebook__.ipynb",
   "parameters": {},
   "start_time": "2023-05-02T11:36:19.108983",
   "version": "2.3.4"
  }
 },
 "nbformat": 4,
 "nbformat_minor": 5
}
